{
 "cells": [
  {
   "cell_type": "code",
   "execution_count": null,
   "id": "d543afa2",
   "metadata": {},
   "outputs": [],
   "source": [
    "import os \n",
    "import pymysql \n",
    "import pandas as pd "
   ]
  },
  {
   "cell_type": "code",
   "execution_count": null,
   "id": "6638d548",
   "metadata": {},
   "outputs": [],
   "source": [
    "import pandas as pd \n",
    "import numpy as np\n",
    "import time\n",
    "import random\n",
    "import openpyxl\n",
    "\n",
    "import matplotlib.pyplot as plt\n",
    "%matplotlib inline\n",
    "from datetime import datetime\n",
    "\n",
    "data = pd.read_excel('Momentanee.xlsx')"
   ]
  },
  {
   "cell_type": "code",
   "execution_count": null,
   "id": "eb5fe4e9",
   "metadata": {},
   "outputs": [],
   "source": [
    "import pymysql\n",
    "from datetime import datetime\n",
    "\n",
    "# 連接資料庫\n",
    "host = 'localhost'\n",
    "port = 3306\n",
    "user = 'root'\n",
    "passwd = '請輸入密碼'\n",
    "db = 'my_project'\n",
    "charset = 'utf8mb4'\n",
    "\n",
    "conn = pymysql.connect(host = host, port = port, user = user, passwd = passwd, db = db, charset = charset)\n",
    "\n",
    "connect=conn.cursor()\n",
    "sql=\"\"\"\n",
    "    CREATE TABLE IF NOT EXISTS new(\n",
    "    CATEGORY CHAR(5) NOT NULL,\n",
    "    NAME CHAR(20),\n",
    "    DES VARCHAR(1000),\n",
    "    PRICE INT,\n",
    "    SIZE CHAR(100),\n",
    "    STOCK INT,\n",
    "    COUNT  INT,\n",
    "    DATE  CHAR(50),\n",
    "    QUANTITY INT)\"\"\"\n",
    "\n",
    "# sql2=\"\"\"\n",
    "# INSERT INTO project.new(CATEGORY ,NAME ,DES,PRICE,SIZE,STOCK,COUNT,DATE,QUANTITY)\n",
    "# VALUES(\"%s\",\"%s\",\"%s\",%d,%d,14,3,\"2020-01-02\",24);\n",
    "# \"\"\"\n",
    "\n",
    "# print('Successfully connected!')\n",
    "\n",
    "# 使用 cursor 物件來進行操作\n",
    "\n",
    "connect.execute(sql)\n"
   ]
  },
  {
   "cell_type": "code",
   "execution_count": null,
   "id": "fb06bdc1",
   "metadata": {},
   "outputs": [],
   "source": [
    "new_data= np.array(data)\n",
    "my_data=new_data.tolist()\n",
    "\n",
    "sql = \"\"\"INSERT INTO my_project.new VALUES (%s ,%s ,%s ,%s ,%s ,%s ,%s ,%s ,%s)\"\"\"\n",
    "\n",
    "connect.executemany(sql,my_data)\n",
    "conn.commit()"
   ]
  }
 ],
 "metadata": {
  "kernelspec": {
   "display_name": "Python 3",
   "language": "python",
   "name": "python3"
  },
  "language_info": {
   "codemirror_mode": {
    "name": "ipython",
    "version": 3
   },
   "file_extension": ".py",
   "mimetype": "text/x-python",
   "name": "python",
   "nbconvert_exporter": "python",
   "pygments_lexer": "ipython3",
   "version": "3.9.5"
  }
 },
 "nbformat": 4,
 "nbformat_minor": 5
}
