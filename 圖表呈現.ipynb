{
 "cells": [
  {
   "cell_type": "code",
   "execution_count": 22,
   "id": "f8df6588",
   "metadata": {},
   "outputs": [],
   "source": [
    "import openpyxl\n",
    "columns = ['category','name','describe','price','size','stock','count']\n",
    "\n",
    "def product(put):\n",
    "    file = openpyxl.Workbook()\n",
    "    page = file.create_sheet('第一頁',0)\n",
    "    title= [i for i in columns]\n",
    "    page.append(title)\n",
    "    for shoes in put:\n",
    "#         print(list(shoes.values()))\n",
    "        page.append(list(shoes.values()))\n",
    "    file.save('SHOES.xlsx')\n",
    "        \n",
    "item=[]  #資料檔在All_data.txt\n",
    "product(item)"
   ]
  },
  {
   "cell_type": "markdown",
   "id": "b5c7d0c7",
   "metadata": {},
   "source": [
    "----------------"
   ]
  },
  {
   "cell_type": "code",
   "execution_count": 8,
   "id": "451d7ea3",
   "metadata": {},
   "outputs": [
    {
     "name": "stdout",
     "output_type": "stream",
     "text": [
      "Defaulting to user installation because normal site-packages is not writeable\n",
      "Collecting python-time\n",
      "  Downloading python-time-0.3.0.tar.gz (2.6 kB)\n",
      "Collecting arrow\n",
      "  Downloading arrow-1.2.0-py3-none-any.whl (62 kB)\n",
      "Requirement already satisfied: python-dateutil>=2.7.0 in c:\\users\\crystal\\appdata\\roaming\\python\\python38\\site-packages (from arrow->python-time) (2.8.2)\n",
      "Requirement already satisfied: six>=1.5 in c:\\users\\crystal\\appdata\\roaming\\python\\python38\\site-packages (from python-dateutil>=2.7.0->arrow->python-time) (1.16.0)\n",
      "Using legacy 'setup.py install' for python-time, since package 'wheel' is not installed.\n",
      "Installing collected packages: arrow, python-time\n",
      "    Running setup.py install for python-time: started\n",
      "    Running setup.py install for python-time: finished with status 'done'\n",
      "Successfully installed arrow-1.2.0 python-time-0.3.0\n"
     ]
    },
    {
     "name": "stderr",
     "output_type": "stream",
     "text": [
      "WARNING: You are using pip version 21.2.4; however, version 21.3 is available.\n",
      "You should consider upgrading via the 'c:\\program files\\python38\\python.exe -m pip install --upgrade pip' command.\n"
     ]
    }
   ],
   "source": [
    "!pip install python-time\n"
   ]
  },
  {
   "cell_type": "code",
   "execution_count": 49,
   "id": "a7b5deb8",
   "metadata": {},
   "outputs": [],
   "source": [
    "import pandas as pd \n",
    "import numpy as np\n",
    "import time\n",
    "import random\n",
    "\n",
    "import matplotlib.pyplot as plt\n",
    "%matplotlib inline\n",
    "from datetime import datetime\n",
    "\n",
    "data = pd.read_excel('Momentanee.xlsx')"
   ]
  },
  {
   "cell_type": "code",
   "execution_count": 50,
   "id": "303a0d4c",
   "metadata": {},
   "outputs": [
    {
     "data": {
      "text/plain": [
       "Unnamed: 0    0\n",
       "category      0\n",
       "name          0\n",
       "describe      0\n",
       "price         0\n",
       "size          0\n",
       "stock         0\n",
       "count         0\n",
       "dtype: int64"
      ]
     },
     "execution_count": 50,
     "metadata": {},
     "output_type": "execute_result"
    }
   ],
   "source": [
    "data.isnull().sum()        #每個欄位有幾個遺失值"
   ]
  },
  {
   "cell_type": "code",
   "execution_count": 3,
   "id": "0fd1fd22",
   "metadata": {},
   "outputs": [],
   "source": [
    "data['price']=data['price'].fillna(6980)       #price遺失值都填入 $6980"
   ]
  },
  {
   "cell_type": "code",
   "execution_count": 4,
   "id": "1562f747",
   "metadata": {},
   "outputs": [],
   "source": [
    "data['price']=data[['price']].astype(int)     #price轉成int"
   ]
  },
  {
   "cell_type": "code",
   "execution_count": 5,
   "id": "fdbd8ab5",
   "metadata": {},
   "outputs": [],
   "source": [
    "data['stock']=pd.DataFrame(np.random.randint(low=3,high=15,size = 980))    #stock填入隨機數"
   ]
  },
  {
   "cell_type": "code",
   "execution_count": 6,
   "id": "65586428",
   "metadata": {},
   "outputs": [],
   "source": [
    "data['count']=pd.DataFrame(np.random.randint(low=1,high=8,size=980))      #count填入隨機數"
   ]
  },
  {
   "cell_type": "code",
   "execution_count": 57,
   "id": "d22b9d71",
   "metadata": {},
   "outputs": [],
   "source": [
    "data['quantity']=pd.DataFrame(np.random.randint(0,10,size=980))           #quantity填入隨機數"
   ]
  },
  {
   "cell_type": "code",
   "execution_count": 7,
   "id": "da3337da",
   "metadata": {},
   "outputs": [],
   "source": [
    "# describe 沒有資料 > 修改\n",
    "data['describe']=data['describe'].str.replace(\"沒有資料\",\"尖頭設計，絕對是「氣場」的代名詞，不僅實力展現高冷女神氣質，還可讓你的腿看起來更細，身材比例更完美。融合繽紛亮片更顯時髦出眾，讓人無法忽視其存在感\")"
   ]
  },
  {
   "cell_type": "code",
   "execution_count": 59,
   "id": "064c8f23",
   "metadata": {},
   "outputs": [],
   "source": [
    "\n",
    "startDate = (2020,1,1,0,0,0,0,0,0)#设置开始日期时间元组\n",
    "endDate = (2021,9,30,23,59,59,0,0,0)#设置结束日期时间元组\n",
    "\n",
    "start = time.mktime(startDate)#生成开始时间戳\n",
    "end=time.mktime(endDate)#生成结束时间戳\n",
    "\n",
    "alldate =[]\n",
    "#随机生成980个日期字符串\n",
    "for i in range(980):\n",
    "    t = random.randint(start,end)          #在开始和结束时间戳中随机取出一个\n",
    "    time1=time.localtime(t)                #将时间戳生成时间元组\n",
    "    date=time.strftime(\"%Y-%m-%d\",time1)   #将时间元组转成格式化字符串（1976-05-21）\n",
    "    alldate.append(date)\n",
    "data['date']=alldate"
   ]
  },
  {
   "cell_type": "code",
   "execution_count": 60,
   "id": "4dd62c4e",
   "metadata": {
    "scrolled": true
   },
   "outputs": [
    {
     "data": {
      "text/html": [
       "<div>\n",
       "<style scoped>\n",
       "    .dataframe tbody tr th:only-of-type {\n",
       "        vertical-align: middle;\n",
       "    }\n",
       "\n",
       "    .dataframe tbody tr th {\n",
       "        vertical-align: top;\n",
       "    }\n",
       "\n",
       "    .dataframe thead th {\n",
       "        text-align: right;\n",
       "    }\n",
       "</style>\n",
       "<table border=\"1\" class=\"dataframe\">\n",
       "  <thead>\n",
       "    <tr style=\"text-align: right;\">\n",
       "      <th></th>\n",
       "      <th>Unnamed: 0</th>\n",
       "      <th>category</th>\n",
       "      <th>name</th>\n",
       "      <th>describe</th>\n",
       "      <th>price</th>\n",
       "      <th>size</th>\n",
       "      <th>stock</th>\n",
       "      <th>count</th>\n",
       "      <th>date</th>\n",
       "      <th>quantity</th>\n",
       "    </tr>\n",
       "  </thead>\n",
       "  <tbody>\n",
       "    <tr>\n",
       "      <th>0</th>\n",
       "      <td>0</td>\n",
       "      <td>高跟</td>\n",
       "      <td>Alma</td>\n",
       "      <td>尖頭設計，絕對是「氣場」的代名詞，不僅實力展現高冷女神氣質，還可讓你的腿看起來更細，身材比例...</td>\n",
       "      <td>6280</td>\n",
       "      <td>37</td>\n",
       "      <td>14</td>\n",
       "      <td>3</td>\n",
       "      <td>2021-07-13</td>\n",
       "      <td>4</td>\n",
       "    </tr>\n",
       "    <tr>\n",
       "      <th>1</th>\n",
       "      <td>1</td>\n",
       "      <td>高跟</td>\n",
       "      <td>Allie</td>\n",
       "      <td>尖頭設計，絕對是「氣場」的代名詞，不僅實力展現高冷女神氣質，還可讓你的腿看起來更細，身材比例...</td>\n",
       "      <td>5280</td>\n",
       "      <td>37</td>\n",
       "      <td>6</td>\n",
       "      <td>3</td>\n",
       "      <td>2021-06-07</td>\n",
       "      <td>3</td>\n",
       "    </tr>\n",
       "    <tr>\n",
       "      <th>2</th>\n",
       "      <td>2</td>\n",
       "      <td>高跟</td>\n",
       "      <td>Allie</td>\n",
       "      <td>尖頭設計，絕對是「氣場」的代名詞，不僅實力展現高冷女神氣質，還可讓你的腿看起來更細，身材比例...</td>\n",
       "      <td>5280</td>\n",
       "      <td>38</td>\n",
       "      <td>8</td>\n",
       "      <td>3</td>\n",
       "      <td>2021-08-31</td>\n",
       "      <td>1</td>\n",
       "    </tr>\n",
       "    <tr>\n",
       "      <th>3</th>\n",
       "      <td>3</td>\n",
       "      <td>高跟</td>\n",
       "      <td>380799</td>\n",
       "      <td>尖頭設計，絕對是「氣場」的代名詞，不僅實力展現高冷女神氣質，還可讓你的腿看起來更細，身材比例...</td>\n",
       "      <td>5280</td>\n",
       "      <td>37</td>\n",
       "      <td>11</td>\n",
       "      <td>3</td>\n",
       "      <td>2020-06-30</td>\n",
       "      <td>2</td>\n",
       "    </tr>\n",
       "    <tr>\n",
       "      <th>4</th>\n",
       "      <td>4</td>\n",
       "      <td>高跟</td>\n",
       "      <td>380671</td>\n",
       "      <td>尖頭設計，絕對是「氣場」的代名詞，不僅實力展現高冷女神氣質，還可讓你的腿看起來更細，身材比例...</td>\n",
       "      <td>5980</td>\n",
       "      <td>37</td>\n",
       "      <td>7</td>\n",
       "      <td>3</td>\n",
       "      <td>2021-05-09</td>\n",
       "      <td>2</td>\n",
       "    </tr>\n",
       "    <tr>\n",
       "      <th>...</th>\n",
       "      <td>...</td>\n",
       "      <td>...</td>\n",
       "      <td>...</td>\n",
       "      <td>...</td>\n",
       "      <td>...</td>\n",
       "      <td>...</td>\n",
       "      <td>...</td>\n",
       "      <td>...</td>\n",
       "      <td>...</td>\n",
       "      <td>...</td>\n",
       "    </tr>\n",
       "    <tr>\n",
       "      <th>975</th>\n",
       "      <td>975</td>\n",
       "      <td>童鞋</td>\n",
       "      <td>Little Elsa</td>\n",
       "      <td>光潔如絲的高級鍛料包覆鞋身，佐以五朵精緻花蕊。蕊心點綴著艾莎公主施以魔法晶瑩剔透的耀眼冰晶，...</td>\n",
       "      <td>2680</td>\n",
       "      <td>4</td>\n",
       "      <td>9</td>\n",
       "      <td>6</td>\n",
       "      <td>2020-03-08</td>\n",
       "      <td>7</td>\n",
       "    </tr>\n",
       "    <tr>\n",
       "      <th>976</th>\n",
       "      <td>976</td>\n",
       "      <td>童鞋</td>\n",
       "      <td>Little Elsa</td>\n",
       "      <td>光潔如絲的高級鍛料包覆鞋身，佐以五朵精緻花蕊。蕊心點綴著艾莎公主施以魔法晶瑩剔透的耀眼冰晶，...</td>\n",
       "      <td>2680</td>\n",
       "      <td>5</td>\n",
       "      <td>12</td>\n",
       "      <td>2</td>\n",
       "      <td>2020-06-21</td>\n",
       "      <td>8</td>\n",
       "    </tr>\n",
       "    <tr>\n",
       "      <th>977</th>\n",
       "      <td>977</td>\n",
       "      <td>童鞋</td>\n",
       "      <td>Little Elsa</td>\n",
       "      <td>光潔如絲的高級鍛料包覆鞋身，佐以五朵精緻花蕊。蕊心點綴著艾莎公主施以魔法晶瑩剔透的耀眼冰晶，...</td>\n",
       "      <td>2680</td>\n",
       "      <td>6</td>\n",
       "      <td>7</td>\n",
       "      <td>5</td>\n",
       "      <td>2021-02-22</td>\n",
       "      <td>6</td>\n",
       "    </tr>\n",
       "    <tr>\n",
       "      <th>978</th>\n",
       "      <td>978</td>\n",
       "      <td>童鞋</td>\n",
       "      <td>Little Elsa</td>\n",
       "      <td>光潔如絲的高級鍛料包覆鞋身，佐以五朵精緻花蕊。蕊心點綴著艾莎公主施以魔法晶瑩剔透的耀眼冰晶，...</td>\n",
       "      <td>2680</td>\n",
       "      <td>7</td>\n",
       "      <td>12</td>\n",
       "      <td>1</td>\n",
       "      <td>2020-02-25</td>\n",
       "      <td>3</td>\n",
       "    </tr>\n",
       "    <tr>\n",
       "      <th>979</th>\n",
       "      <td>979</td>\n",
       "      <td>童鞋</td>\n",
       "      <td>Little Elsa</td>\n",
       "      <td>光潔如絲的高級鍛料包覆鞋身，佐以五朵精緻花蕊。蕊心點綴著艾莎公主施以魔法晶瑩剔透的耀眼冰晶，...</td>\n",
       "      <td>2680</td>\n",
       "      <td>9</td>\n",
       "      <td>9</td>\n",
       "      <td>3</td>\n",
       "      <td>2020-03-10</td>\n",
       "      <td>7</td>\n",
       "    </tr>\n",
       "  </tbody>\n",
       "</table>\n",
       "<p>980 rows × 10 columns</p>\n",
       "</div>"
      ],
      "text/plain": [
       "     Unnamed: 0 category         name  \\\n",
       "0             0       高跟         Alma   \n",
       "1             1       高跟        Allie   \n",
       "2             2       高跟        Allie   \n",
       "3             3       高跟       380799   \n",
       "4             4       高跟       380671   \n",
       "..          ...      ...          ...   \n",
       "975         975       童鞋  Little Elsa   \n",
       "976         976       童鞋  Little Elsa   \n",
       "977         977       童鞋  Little Elsa   \n",
       "978         978       童鞋  Little Elsa   \n",
       "979         979       童鞋  Little Elsa   \n",
       "\n",
       "                                              describe  price size  stock  \\\n",
       "0    尖頭設計，絕對是「氣場」的代名詞，不僅實力展現高冷女神氣質，還可讓你的腿看起來更細，身材比例...   6280   37     14   \n",
       "1    尖頭設計，絕對是「氣場」的代名詞，不僅實力展現高冷女神氣質，還可讓你的腿看起來更細，身材比例...   5280   37      6   \n",
       "2    尖頭設計，絕對是「氣場」的代名詞，不僅實力展現高冷女神氣質，還可讓你的腿看起來更細，身材比例...   5280   38      8   \n",
       "3    尖頭設計，絕對是「氣場」的代名詞，不僅實力展現高冷女神氣質，還可讓你的腿看起來更細，身材比例...   5280   37     11   \n",
       "4    尖頭設計，絕對是「氣場」的代名詞，不僅實力展現高冷女神氣質，還可讓你的腿看起來更細，身材比例...   5980   37      7   \n",
       "..                                                 ...    ...  ...    ...   \n",
       "975  光潔如絲的高級鍛料包覆鞋身，佐以五朵精緻花蕊。蕊心點綴著艾莎公主施以魔法晶瑩剔透的耀眼冰晶，...   2680    4      9   \n",
       "976  光潔如絲的高級鍛料包覆鞋身，佐以五朵精緻花蕊。蕊心點綴著艾莎公主施以魔法晶瑩剔透的耀眼冰晶，...   2680    5     12   \n",
       "977  光潔如絲的高級鍛料包覆鞋身，佐以五朵精緻花蕊。蕊心點綴著艾莎公主施以魔法晶瑩剔透的耀眼冰晶，...   2680    6      7   \n",
       "978  光潔如絲的高級鍛料包覆鞋身，佐以五朵精緻花蕊。蕊心點綴著艾莎公主施以魔法晶瑩剔透的耀眼冰晶，...   2680    7     12   \n",
       "979  光潔如絲的高級鍛料包覆鞋身，佐以五朵精緻花蕊。蕊心點綴著艾莎公主施以魔法晶瑩剔透的耀眼冰晶，...   2680    9      9   \n",
       "\n",
       "     count        date  quantity  \n",
       "0        3  2021-07-13         4  \n",
       "1        3  2021-06-07         3  \n",
       "2        3  2021-08-31         1  \n",
       "3        3  2020-06-30         2  \n",
       "4        3  2021-05-09         2  \n",
       "..     ...         ...       ...  \n",
       "975      6  2020-03-08         7  \n",
       "976      2  2020-06-21         8  \n",
       "977      5  2021-02-22         6  \n",
       "978      1  2020-02-25         3  \n",
       "979      3  2020-03-10         7  \n",
       "\n",
       "[980 rows x 10 columns]"
      ]
     },
     "execution_count": 60,
     "metadata": {},
     "output_type": "execute_result"
    }
   ],
   "source": [
    "data"
   ]
  },
  {
   "cell_type": "code",
   "execution_count": null,
   "id": "1d5100cf",
   "metadata": {},
   "outputs": [],
   "source": []
  },
  {
   "cell_type": "code",
   "execution_count": null,
   "id": "9ad30a8d",
   "metadata": {},
   "outputs": [],
   "source": []
  },
  {
   "cell_type": "code",
   "execution_count": null,
   "id": "eeb91b34",
   "metadata": {},
   "outputs": [],
   "source": []
  },
  {
   "cell_type": "code",
   "execution_count": null,
   "id": "e93455fc",
   "metadata": {},
   "outputs": [],
   "source": []
  },
  {
   "cell_type": "code",
   "execution_count": null,
   "id": "07e5fb4d",
   "metadata": {},
   "outputs": [],
   "source": []
  },
  {
   "cell_type": "code",
   "execution_count": null,
   "id": "7fddff34",
   "metadata": {},
   "outputs": [],
   "source": []
  },
  {
   "cell_type": "code",
   "execution_count": null,
   "id": "165085f0",
   "metadata": {},
   "outputs": [],
   "source": []
  },
  {
   "cell_type": "code",
   "execution_count": null,
   "id": "12252800",
   "metadata": {},
   "outputs": [],
   "source": [
    "data.isnull().sum()"
   ]
  },
  {
   "cell_type": "code",
   "execution_count": null,
   "id": "12ab4371",
   "metadata": {},
   "outputs": [],
   "source": [
    "type(data)"
   ]
  },
  {
   "cell_type": "code",
   "execution_count": null,
   "id": "f5646830",
   "metadata": {},
   "outputs": [],
   "source": [
    "data['price'].mean()"
   ]
  },
  {
   "cell_type": "code",
   "execution_count": null,
   "id": "62edb096",
   "metadata": {},
   "outputs": [],
   "source": [
    "data.describe()"
   ]
  },
  {
   "cell_type": "code",
   "execution_count": null,
   "id": "117ff14c",
   "metadata": {},
   "outputs": [],
   "source": [
    "data.set_index('category')"
   ]
  },
  {
   "cell_type": "code",
   "execution_count": 9,
   "id": "db8d0007",
   "metadata": {},
   "outputs": [],
   "source": [
    "Cat=data.groupby(\"category\")"
   ]
  },
  {
   "cell_type": "code",
   "execution_count": 10,
   "id": "4cf94402",
   "metadata": {
    "scrolled": false
   },
   "outputs": [
    {
     "data": {
      "text/html": [
       "<div>\n",
       "<style scoped>\n",
       "    .dataframe tbody tr th:only-of-type {\n",
       "        vertical-align: middle;\n",
       "    }\n",
       "\n",
       "    .dataframe tbody tr th {\n",
       "        vertical-align: top;\n",
       "    }\n",
       "\n",
       "    .dataframe thead tr th {\n",
       "        text-align: left;\n",
       "    }\n",
       "\n",
       "    .dataframe thead tr:last-of-type th {\n",
       "        text-align: right;\n",
       "    }\n",
       "</style>\n",
       "<table border=\"1\" class=\"dataframe\">\n",
       "  <thead>\n",
       "    <tr>\n",
       "      <th></th>\n",
       "      <th colspan=\"8\" halign=\"left\">price</th>\n",
       "      <th colspan=\"5\" halign=\"left\">stock</th>\n",
       "      <th colspan=\"8\" halign=\"left\">count</th>\n",
       "    </tr>\n",
       "    <tr>\n",
       "      <th></th>\n",
       "      <th>count</th>\n",
       "      <th>mean</th>\n",
       "      <th>std</th>\n",
       "      <th>min</th>\n",
       "      <th>25%</th>\n",
       "      <th>50%</th>\n",
       "      <th>75%</th>\n",
       "      <th>max</th>\n",
       "      <th>count</th>\n",
       "      <th>mean</th>\n",
       "      <th>...</th>\n",
       "      <th>75%</th>\n",
       "      <th>max</th>\n",
       "      <th>count</th>\n",
       "      <th>mean</th>\n",
       "      <th>std</th>\n",
       "      <th>min</th>\n",
       "      <th>25%</th>\n",
       "      <th>50%</th>\n",
       "      <th>75%</th>\n",
       "      <th>max</th>\n",
       "    </tr>\n",
       "    <tr>\n",
       "      <th>category</th>\n",
       "      <th></th>\n",
       "      <th></th>\n",
       "      <th></th>\n",
       "      <th></th>\n",
       "      <th></th>\n",
       "      <th></th>\n",
       "      <th></th>\n",
       "      <th></th>\n",
       "      <th></th>\n",
       "      <th></th>\n",
       "      <th></th>\n",
       "      <th></th>\n",
       "      <th></th>\n",
       "      <th></th>\n",
       "      <th></th>\n",
       "      <th></th>\n",
       "      <th></th>\n",
       "      <th></th>\n",
       "      <th></th>\n",
       "      <th></th>\n",
       "      <th></th>\n",
       "    </tr>\n",
       "  </thead>\n",
       "  <tbody>\n",
       "    <tr>\n",
       "      <th>低跟</th>\n",
       "      <td>99.0</td>\n",
       "      <td>5612.323232</td>\n",
       "      <td>640.444406</td>\n",
       "      <td>4280.0</td>\n",
       "      <td>5280.0</td>\n",
       "      <td>5280.0</td>\n",
       "      <td>6280.0</td>\n",
       "      <td>6980.0</td>\n",
       "      <td>99.0</td>\n",
       "      <td>8.414141</td>\n",
       "      <td>...</td>\n",
       "      <td>11.00</td>\n",
       "      <td>14.0</td>\n",
       "      <td>99.0</td>\n",
       "      <td>3.969697</td>\n",
       "      <td>1.859639</td>\n",
       "      <td>1.0</td>\n",
       "      <td>3.0</td>\n",
       "      <td>4.0</td>\n",
       "      <td>5.0</td>\n",
       "      <td>7.0</td>\n",
       "    </tr>\n",
       "    <tr>\n",
       "      <th>平底</th>\n",
       "      <td>201.0</td>\n",
       "      <td>4918.308458</td>\n",
       "      <td>1086.082467</td>\n",
       "      <td>2980.0</td>\n",
       "      <td>3980.0</td>\n",
       "      <td>4980.0</td>\n",
       "      <td>5980.0</td>\n",
       "      <td>6980.0</td>\n",
       "      <td>201.0</td>\n",
       "      <td>8.572139</td>\n",
       "      <td>...</td>\n",
       "      <td>11.00</td>\n",
       "      <td>14.0</td>\n",
       "      <td>201.0</td>\n",
       "      <td>3.925373</td>\n",
       "      <td>1.933754</td>\n",
       "      <td>1.0</td>\n",
       "      <td>3.0</td>\n",
       "      <td>4.0</td>\n",
       "      <td>5.0</td>\n",
       "      <td>7.0</td>\n",
       "    </tr>\n",
       "    <tr>\n",
       "      <th>涼鞋</th>\n",
       "      <td>56.0</td>\n",
       "      <td>5905.357143</td>\n",
       "      <td>1536.397160</td>\n",
       "      <td>3980.0</td>\n",
       "      <td>3980.0</td>\n",
       "      <td>7200.0</td>\n",
       "      <td>7200.0</td>\n",
       "      <td>7200.0</td>\n",
       "      <td>56.0</td>\n",
       "      <td>9.250000</td>\n",
       "      <td>...</td>\n",
       "      <td>12.25</td>\n",
       "      <td>14.0</td>\n",
       "      <td>56.0</td>\n",
       "      <td>3.964286</td>\n",
       "      <td>1.877758</td>\n",
       "      <td>1.0</td>\n",
       "      <td>2.0</td>\n",
       "      <td>4.0</td>\n",
       "      <td>5.0</td>\n",
       "      <td>7.0</td>\n",
       "    </tr>\n",
       "    <tr>\n",
       "      <th>男鞋</th>\n",
       "      <td>105.0</td>\n",
       "      <td>6611.047619</td>\n",
       "      <td>2892.131209</td>\n",
       "      <td>3980.0</td>\n",
       "      <td>4980.0</td>\n",
       "      <td>4980.0</td>\n",
       "      <td>8200.0</td>\n",
       "      <td>15000.0</td>\n",
       "      <td>105.0</td>\n",
       "      <td>8.085714</td>\n",
       "      <td>...</td>\n",
       "      <td>11.00</td>\n",
       "      <td>14.0</td>\n",
       "      <td>105.0</td>\n",
       "      <td>3.828571</td>\n",
       "      <td>2.002197</td>\n",
       "      <td>1.0</td>\n",
       "      <td>2.0</td>\n",
       "      <td>4.0</td>\n",
       "      <td>5.0</td>\n",
       "      <td>7.0</td>\n",
       "    </tr>\n",
       "    <tr>\n",
       "      <th>童鞋</th>\n",
       "      <td>94.0</td>\n",
       "      <td>2662.978723</td>\n",
       "      <td>463.655021</td>\n",
       "      <td>1980.0</td>\n",
       "      <td>2680.0</td>\n",
       "      <td>2680.0</td>\n",
       "      <td>2680.0</td>\n",
       "      <td>4980.0</td>\n",
       "      <td>94.0</td>\n",
       "      <td>7.755319</td>\n",
       "      <td>...</td>\n",
       "      <td>11.00</td>\n",
       "      <td>14.0</td>\n",
       "      <td>94.0</td>\n",
       "      <td>3.787234</td>\n",
       "      <td>1.860005</td>\n",
       "      <td>1.0</td>\n",
       "      <td>2.0</td>\n",
       "      <td>4.0</td>\n",
       "      <td>5.0</td>\n",
       "      <td>7.0</td>\n",
       "    </tr>\n",
       "    <tr>\n",
       "      <th>靴子</th>\n",
       "      <td>40.0</td>\n",
       "      <td>5804.500000</td>\n",
       "      <td>1868.521903</td>\n",
       "      <td>3980.0</td>\n",
       "      <td>3980.0</td>\n",
       "      <td>5590.0</td>\n",
       "      <td>7980.0</td>\n",
       "      <td>7980.0</td>\n",
       "      <td>40.0</td>\n",
       "      <td>7.725000</td>\n",
       "      <td>...</td>\n",
       "      <td>10.00</td>\n",
       "      <td>14.0</td>\n",
       "      <td>40.0</td>\n",
       "      <td>3.525000</td>\n",
       "      <td>2.012620</td>\n",
       "      <td>1.0</td>\n",
       "      <td>2.0</td>\n",
       "      <td>3.0</td>\n",
       "      <td>5.0</td>\n",
       "      <td>7.0</td>\n",
       "    </tr>\n",
       "    <tr>\n",
       "      <th>高跟</th>\n",
       "      <td>385.0</td>\n",
       "      <td>16051.532468</td>\n",
       "      <td>20386.893052</td>\n",
       "      <td>3980.0</td>\n",
       "      <td>5980.0</td>\n",
       "      <td>7200.0</td>\n",
       "      <td>12800.0</td>\n",
       "      <td>69800.0</td>\n",
       "      <td>385.0</td>\n",
       "      <td>8.332468</td>\n",
       "      <td>...</td>\n",
       "      <td>11.00</td>\n",
       "      <td>14.0</td>\n",
       "      <td>385.0</td>\n",
       "      <td>3.942857</td>\n",
       "      <td>2.040439</td>\n",
       "      <td>1.0</td>\n",
       "      <td>2.0</td>\n",
       "      <td>4.0</td>\n",
       "      <td>6.0</td>\n",
       "      <td>7.0</td>\n",
       "    </tr>\n",
       "  </tbody>\n",
       "</table>\n",
       "<p>7 rows × 24 columns</p>\n",
       "</div>"
      ],
      "text/plain": [
       "          price                                                               \\\n",
       "          count          mean           std     min     25%     50%      75%   \n",
       "category                                                                       \n",
       "低跟         99.0   5612.323232    640.444406  4280.0  5280.0  5280.0   6280.0   \n",
       "平底        201.0   4918.308458   1086.082467  2980.0  3980.0  4980.0   5980.0   \n",
       "涼鞋         56.0   5905.357143   1536.397160  3980.0  3980.0  7200.0   7200.0   \n",
       "男鞋        105.0   6611.047619   2892.131209  3980.0  4980.0  4980.0   8200.0   \n",
       "童鞋         94.0   2662.978723    463.655021  1980.0  2680.0  2680.0   2680.0   \n",
       "靴子         40.0   5804.500000   1868.521903  3980.0  3980.0  5590.0   7980.0   \n",
       "高跟        385.0  16051.532468  20386.893052  3980.0  5980.0  7200.0  12800.0   \n",
       "\n",
       "                   stock            ...               count            \\\n",
       "              max  count      mean  ...    75%   max  count      mean   \n",
       "category                            ...                                 \n",
       "低跟         6980.0   99.0  8.414141  ...  11.00  14.0   99.0  3.969697   \n",
       "平底         6980.0  201.0  8.572139  ...  11.00  14.0  201.0  3.925373   \n",
       "涼鞋         7200.0   56.0  9.250000  ...  12.25  14.0   56.0  3.964286   \n",
       "男鞋        15000.0  105.0  8.085714  ...  11.00  14.0  105.0  3.828571   \n",
       "童鞋         4980.0   94.0  7.755319  ...  11.00  14.0   94.0  3.787234   \n",
       "靴子         7980.0   40.0  7.725000  ...  10.00  14.0   40.0  3.525000   \n",
       "高跟        69800.0  385.0  8.332468  ...  11.00  14.0  385.0  3.942857   \n",
       "\n",
       "                                             \n",
       "               std  min  25%  50%  75%  max  \n",
       "category                                     \n",
       "低跟        1.859639  1.0  3.0  4.0  5.0  7.0  \n",
       "平底        1.933754  1.0  3.0  4.0  5.0  7.0  \n",
       "涼鞋        1.877758  1.0  2.0  4.0  5.0  7.0  \n",
       "男鞋        2.002197  1.0  2.0  4.0  5.0  7.0  \n",
       "童鞋        1.860005  1.0  2.0  4.0  5.0  7.0  \n",
       "靴子        2.012620  1.0  2.0  3.0  5.0  7.0  \n",
       "高跟        2.040439  1.0  2.0  4.0  6.0  7.0  \n",
       "\n",
       "[7 rows x 24 columns]"
      ]
     },
     "execution_count": 10,
     "metadata": {},
     "output_type": "execute_result"
    }
   ],
   "source": [
    "Cat.describe()"
   ]
  },
  {
   "cell_type": "code",
   "execution_count": 11,
   "id": "ee03fdfb",
   "metadata": {},
   "outputs": [],
   "source": [
    "value = Cat.size()\n",
    "labels = [\"Low heel\",\"Flats\",\"Sandals\",\"Oxfords\",\"Child's shoes\",\"Boots\",\"High heel\"]\n"
   ]
  },
  {
   "cell_type": "code",
   "execution_count": 12,
   "id": "379416c5",
   "metadata": {},
   "outputs": [
    {
     "data": {
      "image/png": "[encoded data removed]",
      "text/plain": [
       "<Figure size 432x288 with 1 Axes>"
      ]
     },
     "metadata": {},
     "output_type": "display_data"
    }
   ],
   "source": [
    "#各鞋款分配比例\n",
    "plt.pie(value ,labels=labels,radius = 1.5 ,textprops = {\"fontsize\" : 14} ,autopct = \"%0.1f%%\"  , shadow =True,startangle = 100)\n",
    "plt.savefig(\"pie.png\",bbox_inches = \"tight\" ,pad_inches = 1 ,transparent = True)\n",
    "plt.show()"
   ]
  },
  {
   "cell_type": "code",
   "execution_count": 15,
   "id": "5f4f728f",
   "metadata": {},
   "outputs": [],
   "source": [
    "category = [\"Low heel\",\"Flats\",\"Sandals\",\"Oxfords\",\"Child's shoes\",\"Boots\",\"High heel\"]\n",
    "price = Cat.price.mean()"
   ]
  },
  {
   "cell_type": "code",
   "execution_count": 16,
   "id": "c579bc42",
   "metadata": {},
   "outputs": [],
   "source": [
    "xpos = np.arange(len(category))"
   ]
  },
  {
   "cell_type": "code",
   "execution_count": null,
   "id": "7241f97c",
   "metadata": {},
   "outputs": [],
   "source": [
    "xpos"
   ]
  },
  {
   "cell_type": "code",
   "execution_count": 17,
   "id": "0171b75c",
   "metadata": {},
   "outputs": [
    {
     "data": {
      "text/plain": [
       "<matplotlib.legend.Legend at 0x1bbdc7ab1c0>"
      ]
     },
     "execution_count": 17,
     "metadata": {},
     "output_type": "execute_result"
    },
    {
     "data": {
      "image/png": "[encoded data removed]",
      "text/plain": [
       "<Figure size 432x288 with 1 Axes>"
      ]
     },
     "metadata": {
      "needs_background": "light"
     },
     "output_type": "display_data"
    }
   ],
   "source": [
    "#各鞋款平均售價\n",
    "plt.xticks(xpos , category)\n",
    "plt.xlabel(\"category(bin)\")\n",
    "plt.title(\"Average price of shoes \")\n",
    "\n",
    "plt.bar(xpos ,price ,width= 0.6 ,label = \"Prcie\",color =[\"orange\"])\n",
    "plt.legend()\n"
   ]
  },
  {
   "cell_type": "code",
   "execution_count": 18,
   "id": "64fb52c2",
   "metadata": {},
   "outputs": [
    {
     "data": {
      "text/plain": [
       "0      高跟\n",
       "1      高跟\n",
       "2      高跟\n",
       "3      高跟\n",
       "4      高跟\n",
       "       ..\n",
       "975    童鞋\n",
       "976    童鞋\n",
       "977    童鞋\n",
       "978    童鞋\n",
       "979    童鞋\n",
       "Name: category, Length: 980, dtype: category\n",
       "Categories (7, object): ['低跟', '平底', '涼鞋', '男鞋', '童鞋', '靴子', '高跟']"
      ]
     },
     "execution_count": 18,
     "metadata": {},
     "output_type": "execute_result"
    }
   ],
   "source": [
    "all_cat=pd.Series(data['category']).astype('category')\n",
    "all_cat"
   ]
  },
  {
   "cell_type": "code",
   "execution_count": 19,
   "id": "9a62f487",
   "metadata": {},
   "outputs": [],
   "source": [
    "heel=Cat.get_group('高跟')[120:150]"
   ]
  },
  {
   "cell_type": "code",
   "execution_count": 20,
   "id": "f5a445c4",
   "metadata": {},
   "outputs": [],
   "source": [
    "heel=heel.sort_values(by='size')"
   ]
  },
  {
   "cell_type": "code",
   "execution_count": 21,
   "id": "835bfb0e",
   "metadata": {
    "scrolled": true
   },
   "outputs": [
    {
     "data": {
      "text/plain": [
       "<function matplotlib.pyplot.show(close=None, block=None)>"
      ]
     },
     "execution_count": 21,
     "metadata": {},
     "output_type": "execute_result"
    },
    {
     "data": {
      "image/png": "[encoded data removed]",
      "text/plain": [
       "<Figure size 432x288 with 1 Axes>"
      ]
     },
     "metadata": {
      "needs_background": "light"
     },
     "output_type": "display_data"
    }
   ],
   "source": [
    "#高跟尺寸與庫存\n",
    "heel.plot(x='size',y='stock')\n",
    "plt.title(\"High heel of the Chart\")\n",
    "plt.xlabel(\"size\" , fontweight='bold')\n",
    "plt.ylabel(\"stock\", fontweight='bold')\n",
    "plt.legend()\n",
    "plt.show"
   ]
  },
  {
   "cell_type": "code",
   "execution_count": 61,
   "id": "1d9281fb",
   "metadata": {},
   "outputs": [],
   "source": [
    "df=pd.DataFrame(data)\n",
    "df.to_excel('Momentanee.xlsx')"
   ]
  }
 ],
 "metadata": {
  "kernelspec": {
   "display_name": "Python 3",
   "language": "python",
   "name": "python3"
  },
  "language_info": {
   "codemirror_mode": {
    "name": "ipython",
    "version": 3
   },
   "file_extension": ".py",
   "mimetype": "text/x-python",
   "name": "python",
   "nbconvert_exporter": "python",
   "pygments_lexer": "ipython3",
   "version": "3.9.5"
  }
 },
 "nbformat": 4,
 "nbformat_minor": 5
}
