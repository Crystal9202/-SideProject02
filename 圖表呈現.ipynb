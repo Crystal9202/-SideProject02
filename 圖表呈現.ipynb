{
 "cells": [
  {
   "cell_type": "code",
   "execution_count": null,
   "id": "f8df6588",
   "metadata": {},
   "outputs": [],
   "source": [
    "import openpyxl\n",
    "columns = ['category','name','describe','price','size','stock','count']\n",
    "\n",
    "def product(put):\n",
    "    file = openpyxl.Workbook()\n",
    "    page = file.create_sheet('第一頁',0)\n",
    "    title= [i for i in columns]\n",
    "    page.append(title)\n",
    "    for shoes in put:\n",
    "#         print(list(shoes.values()))\n",
    "        page.append(list(shoes.values()))\n",
    "    file.save('SHOES.xlsx')\n",
    "        \n",
    "item=[]  #資料檔在All_data.txt\n",
    "product(item)"
   ]
  },
  {
   "cell_type": "markdown",
   "id": "b5c7d0c7",
   "metadata": {},
   "source": [
    "----------------"
   ]
  },
  {
   "cell_type": "code",
   "execution_count": null,
   "id": "451d7ea3",
   "metadata": {},
   "outputs": [],
   "source": [
    "!pip install python-time\n"
   ]
  },
  {
   "cell_type": "code",
   "execution_count": 35,
   "id": "a7b5deb8",
   "metadata": {},
   "outputs": [],
   "source": [
    "import pandas as pd \n",
    "import numpy as np\n",
    "import time\n",
    "import random\n",
    "import openpyxl\n",
    "\n",
    "import matplotlib.pyplot as plt\n",
    "%matplotlib inline\n",
    "from datetime import datetime\n",
    "\n",
    "data = pd.read_excel('Momentanee.xlsx')"
   ]
  },
  {
   "cell_type": "code",
   "execution_count": null,
   "id": "303a0d4c",
   "metadata": {},
   "outputs": [],
   "source": [
    "data.isnull().sum()        #每個欄位有幾個遺失值"
   ]
  },
  {
   "cell_type": "code",
   "execution_count": null,
   "id": "ad38b82b",
   "metadata": {},
   "outputs": [],
   "source": [
    "data['quantity']=data[['quantity']].astype(int)"
   ]
  },
  {
   "cell_type": "code",
   "execution_count": null,
   "id": "0fd1fd22",
   "metadata": {},
   "outputs": [],
   "source": [
    "data['price']=data['price'].fillna(6980)       #price遺失值都填入 $6980"
   ]
  },
  {
   "cell_type": "code",
   "execution_count": null,
   "id": "1562f747",
   "metadata": {},
   "outputs": [],
   "source": [
    "data['price']=data[['price']].astype(int)     #price轉成int"
   ]
  },
  {
   "cell_type": "code",
   "execution_count": null,
   "id": "fdbd8ab5",
   "metadata": {},
   "outputs": [],
   "source": [
    "data['stock']=pd.DataFrame(np.random.randint(low=3,high=15,size = 945))    #stock填入隨機數"
   ]
  },
  {
   "cell_type": "code",
   "execution_count": null,
   "id": "65586428",
   "metadata": {},
   "outputs": [],
   "source": [
    "data['count']=pd.DataFrame(np.random.randint(low=1,high=8,size=945))      #count填入隨機數"
   ]
  },
  {
   "cell_type": "code",
   "execution_count": null,
   "id": "d22b9d71",
   "metadata": {},
   "outputs": [],
   "source": [
    "data['quantity']=pd.DataFrame(np.random.randint(0,37,size=945))           #quantity填入隨機數"
   ]
  },
  {
   "cell_type": "code",
   "execution_count": null,
   "id": "da3337da",
   "metadata": {},
   "outputs": [],
   "source": [
    "# describe 沒有資料 > 修改\n",
    "data['describe']=data['describe'].str.replace(\"沒有資料\",\"尖頭設計，絕對是「氣場」的代名詞，不僅實力展現高冷女神氣質，還可讓你的腿看起來更細，身材比例更完美。融合繽紛亮片更顯時髦出眾，讓人無法忽視其存在感\")"
   ]
  },
  {
   "cell_type": "code",
   "execution_count": null,
   "id": "064c8f23",
   "metadata": {},
   "outputs": [],
   "source": [
    "\n",
    "startDate = (2020,1,1,0,0,0,0,0,0)#设置开始日期时间元组\n",
    "endDate = (2021,9,30,23,59,59,0,0,0)#设置结束日期时间元组\n",
    "\n",
    "start = time.mktime(startDate)#生成开始时间戳\n",
    "end=time.mktime(endDate)#生成结束时间戳\n",
    "\n",
    "alldate =[]\n",
    "#随机生成980个日期字符串\n",
    "for i in range(980):\n",
    "    t = random.randint(start,end)          #在开始和结束时间戳中随机取出一个\n",
    "    time1=time.localtime(t)                #将时间戳生成时间元组\n",
    "    date=time.strftime(\"%Y-%m-%d\",time1)   #将时间元组转成格式化字符串（1976-05-21）\n",
    "    alldate.append(date)\n",
    "data['date']=alldate"
   ]
  },
  {
   "cell_type": "code",
   "execution_count": 36,
   "id": "4dd62c4e",
   "metadata": {
    "scrolled": true
   },
   "outputs": [
    {
     "data": {
      "text/html": [
       "<div>\n",
       "<style scoped>\n",
       "    .dataframe tbody tr th:only-of-type {\n",
       "        vertical-align: middle;\n",
       "    }\n",
       "\n",
       "    .dataframe tbody tr th {\n",
       "        vertical-align: top;\n",
       "    }\n",
       "\n",
       "    .dataframe thead th {\n",
       "        text-align: right;\n",
       "    }\n",
       "</style>\n",
       "<table border=\"1\" class=\"dataframe\">\n",
       "  <thead>\n",
       "    <tr style=\"text-align: right;\">\n",
       "      <th></th>\n",
       "      <th>category</th>\n",
       "      <th>name</th>\n",
       "      <th>describe</th>\n",
       "      <th>price</th>\n",
       "      <th>size</th>\n",
       "      <th>stock</th>\n",
       "      <th>count</th>\n",
       "      <th>date</th>\n",
       "      <th>quantity</th>\n",
       "    </tr>\n",
       "  </thead>\n",
       "  <tbody>\n",
       "    <tr>\n",
       "      <th>0</th>\n",
       "      <td>高跟</td>\n",
       "      <td>Alma</td>\n",
       "      <td>尖頭設計，絕對是「氣場」的代名詞，不僅實力展現高冷女神氣質，還可讓你的腿看起來更細，身材比例...</td>\n",
       "      <td>6280</td>\n",
       "      <td>37</td>\n",
       "      <td>14</td>\n",
       "      <td>3</td>\n",
       "      <td>2020-01-02</td>\n",
       "      <td>24</td>\n",
       "    </tr>\n",
       "    <tr>\n",
       "      <th>1</th>\n",
       "      <td>高跟</td>\n",
       "      <td>Allie</td>\n",
       "      <td>尖頭設計，絕對是「氣場」的代名詞，不僅實力展現高冷女神氣質，還可讓你的腿看起來更細，身材比例...</td>\n",
       "      <td>5280</td>\n",
       "      <td>37</td>\n",
       "      <td>6</td>\n",
       "      <td>3</td>\n",
       "      <td>2021-02-27</td>\n",
       "      <td>36</td>\n",
       "    </tr>\n",
       "    <tr>\n",
       "      <th>2</th>\n",
       "      <td>高跟</td>\n",
       "      <td>Allie</td>\n",
       "      <td>尖頭設計，絕對是「氣場」的代名詞，不僅實力展現高冷女神氣質，還可讓你的腿看起來更細，身材比例...</td>\n",
       "      <td>5280</td>\n",
       "      <td>38</td>\n",
       "      <td>8</td>\n",
       "      <td>3</td>\n",
       "      <td>2020-09-22</td>\n",
       "      <td>5</td>\n",
       "    </tr>\n",
       "    <tr>\n",
       "      <th>3</th>\n",
       "      <td>高跟</td>\n",
       "      <td>380799</td>\n",
       "      <td>尖頭設計，絕對是「氣場」的代名詞，不僅實力展現高冷女神氣質，還可讓你的腿看起來更細，身材比例...</td>\n",
       "      <td>5280</td>\n",
       "      <td>37</td>\n",
       "      <td>11</td>\n",
       "      <td>3</td>\n",
       "      <td>2020-10-17</td>\n",
       "      <td>18</td>\n",
       "    </tr>\n",
       "    <tr>\n",
       "      <th>4</th>\n",
       "      <td>高跟</td>\n",
       "      <td>380671</td>\n",
       "      <td>尖頭設計，絕對是「氣場」的代名詞，不僅實力展現高冷女神氣質，還可讓你的腿看起來更細，身材比例...</td>\n",
       "      <td>5980</td>\n",
       "      <td>37</td>\n",
       "      <td>7</td>\n",
       "      <td>3</td>\n",
       "      <td>2020-03-25</td>\n",
       "      <td>36</td>\n",
       "    </tr>\n",
       "    <tr>\n",
       "      <th>...</th>\n",
       "      <td>...</td>\n",
       "      <td>...</td>\n",
       "      <td>...</td>\n",
       "      <td>...</td>\n",
       "      <td>...</td>\n",
       "      <td>...</td>\n",
       "      <td>...</td>\n",
       "      <td>...</td>\n",
       "      <td>...</td>\n",
       "    </tr>\n",
       "    <tr>\n",
       "      <th>940</th>\n",
       "      <td>童鞋</td>\n",
       "      <td>Little Elsa</td>\n",
       "      <td>光潔如絲的高級鍛料包覆鞋身，佐以五朵精緻花蕊。蕊心點綴著艾莎公主施以魔法晶瑩剔透的耀眼冰晶，...</td>\n",
       "      <td>2680</td>\n",
       "      <td>4</td>\n",
       "      <td>9</td>\n",
       "      <td>6</td>\n",
       "      <td>2020-02-11</td>\n",
       "      <td>23</td>\n",
       "    </tr>\n",
       "    <tr>\n",
       "      <th>941</th>\n",
       "      <td>童鞋</td>\n",
       "      <td>Little Elsa</td>\n",
       "      <td>光潔如絲的高級鍛料包覆鞋身，佐以五朵精緻花蕊。蕊心點綴著艾莎公主施以魔法晶瑩剔透的耀眼冰晶，...</td>\n",
       "      <td>2680</td>\n",
       "      <td>5</td>\n",
       "      <td>12</td>\n",
       "      <td>2</td>\n",
       "      <td>2020-07-02</td>\n",
       "      <td>14</td>\n",
       "    </tr>\n",
       "    <tr>\n",
       "      <th>942</th>\n",
       "      <td>童鞋</td>\n",
       "      <td>Little Elsa</td>\n",
       "      <td>光潔如絲的高級鍛料包覆鞋身，佐以五朵精緻花蕊。蕊心點綴著艾莎公主施以魔法晶瑩剔透的耀眼冰晶，...</td>\n",
       "      <td>2680</td>\n",
       "      <td>6</td>\n",
       "      <td>7</td>\n",
       "      <td>5</td>\n",
       "      <td>2020-09-19</td>\n",
       "      <td>20</td>\n",
       "    </tr>\n",
       "    <tr>\n",
       "      <th>943</th>\n",
       "      <td>童鞋</td>\n",
       "      <td>Little Elsa</td>\n",
       "      <td>光潔如絲的高級鍛料包覆鞋身，佐以五朵精緻花蕊。蕊心點綴著艾莎公主施以魔法晶瑩剔透的耀眼冰晶，...</td>\n",
       "      <td>2680</td>\n",
       "      <td>7</td>\n",
       "      <td>12</td>\n",
       "      <td>1</td>\n",
       "      <td>2020-02-16</td>\n",
       "      <td>21</td>\n",
       "    </tr>\n",
       "    <tr>\n",
       "      <th>944</th>\n",
       "      <td>童鞋</td>\n",
       "      <td>Little Elsa</td>\n",
       "      <td>光潔如絲的高級鍛料包覆鞋身，佐以五朵精緻花蕊。蕊心點綴著艾莎公主施以魔法晶瑩剔透的耀眼冰晶，...</td>\n",
       "      <td>2680</td>\n",
       "      <td>9</td>\n",
       "      <td>9</td>\n",
       "      <td>3</td>\n",
       "      <td>2020-04-09</td>\n",
       "      <td>14</td>\n",
       "    </tr>\n",
       "  </tbody>\n",
       "</table>\n",
       "<p>945 rows × 9 columns</p>\n",
       "</div>"
      ],
      "text/plain": [
       "    category         name                                           describe  \\\n",
       "0         高跟         Alma  尖頭設計，絕對是「氣場」的代名詞，不僅實力展現高冷女神氣質，還可讓你的腿看起來更細，身材比例...   \n",
       "1         高跟        Allie  尖頭設計，絕對是「氣場」的代名詞，不僅實力展現高冷女神氣質，還可讓你的腿看起來更細，身材比例...   \n",
       "2         高跟        Allie  尖頭設計，絕對是「氣場」的代名詞，不僅實力展現高冷女神氣質，還可讓你的腿看起來更細，身材比例...   \n",
       "3         高跟       380799  尖頭設計，絕對是「氣場」的代名詞，不僅實力展現高冷女神氣質，還可讓你的腿看起來更細，身材比例...   \n",
       "4         高跟       380671  尖頭設計，絕對是「氣場」的代名詞，不僅實力展現高冷女神氣質，還可讓你的腿看起來更細，身材比例...   \n",
       "..       ...          ...                                                ...   \n",
       "940       童鞋  Little Elsa  光潔如絲的高級鍛料包覆鞋身，佐以五朵精緻花蕊。蕊心點綴著艾莎公主施以魔法晶瑩剔透的耀眼冰晶，...   \n",
       "941       童鞋  Little Elsa  光潔如絲的高級鍛料包覆鞋身，佐以五朵精緻花蕊。蕊心點綴著艾莎公主施以魔法晶瑩剔透的耀眼冰晶，...   \n",
       "942       童鞋  Little Elsa  光潔如絲的高級鍛料包覆鞋身，佐以五朵精緻花蕊。蕊心點綴著艾莎公主施以魔法晶瑩剔透的耀眼冰晶，...   \n",
       "943       童鞋  Little Elsa  光潔如絲的高級鍛料包覆鞋身，佐以五朵精緻花蕊。蕊心點綴著艾莎公主施以魔法晶瑩剔透的耀眼冰晶，...   \n",
       "944       童鞋  Little Elsa  光潔如絲的高級鍛料包覆鞋身，佐以五朵精緻花蕊。蕊心點綴著艾莎公主施以魔法晶瑩剔透的耀眼冰晶，...   \n",
       "\n",
       "     price size  stock  count        date  quantity  \n",
       "0     6280   37     14      3  2020-01-02        24  \n",
       "1     5280   37      6      3  2021-02-27        36  \n",
       "2     5280   38      8      3  2020-09-22         5  \n",
       "3     5280   37     11      3  2020-10-17        18  \n",
       "4     5980   37      7      3  2020-03-25        36  \n",
       "..     ...  ...    ...    ...         ...       ...  \n",
       "940   2680    4      9      6  2020-02-11        23  \n",
       "941   2680    5     12      2  2020-07-02        14  \n",
       "942   2680    6      7      5  2020-09-19        20  \n",
       "943   2680    7     12      1  2020-02-16        21  \n",
       "944   2680    9      9      3  2020-04-09        14  \n",
       "\n",
       "[945 rows x 9 columns]"
      ]
     },
     "execution_count": 36,
     "metadata": {},
     "output_type": "execute_result"
    }
   ],
   "source": [
    "data"
   ]
  },
  {
   "cell_type": "code",
   "execution_count": 37,
   "id": "e93455fc",
   "metadata": {
    "scrolled": true
   },
   "outputs": [],
   "source": [
    "data['date']=pd.to_datetime(data['date'])    #將日期轉換為datetime類型"
   ]
  },
  {
   "cell_type": "code",
   "execution_count": 38,
   "id": "7fddff34",
   "metadata": {},
   "outputs": [],
   "source": [
    "data.set_index('date',inplace=True)         #把日期設為index"
   ]
  },
  {
   "cell_type": "code",
   "execution_count": 5,
   "id": "165085f0",
   "metadata": {},
   "outputs": [
    {
     "name": "stderr",
     "output_type": "stream",
     "text": [
      "<ipython-input-5-2599cc1e3c0d>:1: FutureWarning: Value based partial slicing on non-monotonic DatetimeIndexes with non-existing keys is deprecated and will raise a KeyError in a future Version.\n",
      "  spring=data.loc['2020-03':'2020-05']        #取出春季時間\n"
     ]
    }
   ],
   "source": [
    "spring=data.loc['2020-03':'2020-05']        #取出春季時間"
   ]
  },
  {
   "cell_type": "code",
   "execution_count": 6,
   "id": "80e893ad",
   "metadata": {},
   "outputs": [],
   "source": [
    "spring=spring.sort_values(by=['date'])      #排序時間"
   ]
  },
  {
   "cell_type": "code",
   "execution_count": 7,
   "id": "e76904e1",
   "metadata": {
    "scrolled": true
   },
   "outputs": [
    {
     "data": {
      "text/html": [
       "<div>\n",
       "<style scoped>\n",
       "    .dataframe tbody tr th:only-of-type {\n",
       "        vertical-align: middle;\n",
       "    }\n",
       "\n",
       "    .dataframe tbody tr th {\n",
       "        vertical-align: top;\n",
       "    }\n",
       "\n",
       "    .dataframe thead th {\n",
       "        text-align: right;\n",
       "    }\n",
       "</style>\n",
       "<table border=\"1\" class=\"dataframe\">\n",
       "  <thead>\n",
       "    <tr style=\"text-align: right;\">\n",
       "      <th></th>\n",
       "      <th>category</th>\n",
       "      <th>name</th>\n",
       "      <th>describe</th>\n",
       "      <th>price</th>\n",
       "      <th>size</th>\n",
       "      <th>stock</th>\n",
       "      <th>count</th>\n",
       "      <th>quantity</th>\n",
       "    </tr>\n",
       "    <tr>\n",
       "      <th>date</th>\n",
       "      <th></th>\n",
       "      <th></th>\n",
       "      <th></th>\n",
       "      <th></th>\n",
       "      <th></th>\n",
       "      <th></th>\n",
       "      <th></th>\n",
       "      <th></th>\n",
       "    </tr>\n",
       "  </thead>\n",
       "  <tbody>\n",
       "    <tr>\n",
       "      <th>2020-03-02</th>\n",
       "      <td>男鞋</td>\n",
       "      <td>ARTHUR</td>\n",
       "      <td>傳統牛津鞋搭配鱷魚壓紋,呈現出奢華和專業。</td>\n",
       "      <td>8200</td>\n",
       "      <td>5.5</td>\n",
       "      <td>8</td>\n",
       "      <td>3</td>\n",
       "      <td>1</td>\n",
       "    </tr>\n",
       "    <tr>\n",
       "      <th>2020-03-03</th>\n",
       "      <td>童鞋</td>\n",
       "      <td>Little Elsa</td>\n",
       "      <td>光潔如絲的高級鍛料包覆鞋身，佐以五朵精緻花蕊。蕊心點綴著艾莎公主施以魔法晶瑩剔透的耀眼冰晶，...</td>\n",
       "      <td>2680</td>\n",
       "      <td>大童2</td>\n",
       "      <td>13</td>\n",
       "      <td>2</td>\n",
       "      <td>19</td>\n",
       "    </tr>\n",
       "    <tr>\n",
       "      <th>2020-03-05</th>\n",
       "      <td>靴子</td>\n",
       "      <td>380778</td>\n",
       "      <td>打造專屬自己個性的時尚風格，獨樹一格的鉚釘方扣，讓靴款保持極簡俐落的模樣，輕鬆展現俐落前衛的...</td>\n",
       "      <td>4261</td>\n",
       "      <td>38</td>\n",
       "      <td>6</td>\n",
       "      <td>3</td>\n",
       "      <td>4</td>\n",
       "    </tr>\n",
       "    <tr>\n",
       "      <th>2020-03-06</th>\n",
       "      <td>童鞋</td>\n",
       "      <td>Little Elsa</td>\n",
       "      <td>光潔如絲的高級鍛料包覆鞋身，佐以五朵精緻花蕊。蕊心點綴著艾莎公主施以魔法晶瑩剔透的耀眼冰晶，...</td>\n",
       "      <td>2680</td>\n",
       "      <td>12</td>\n",
       "      <td>11</td>\n",
       "      <td>2</td>\n",
       "      <td>35</td>\n",
       "    </tr>\n",
       "    <tr>\n",
       "      <th>2020-03-06</th>\n",
       "      <td>高跟</td>\n",
       "      <td>380648</td>\n",
       "      <td>黑色鏡面皮質，展現俐落的氣勢及態度，完美詮釋自己的時尚風格。</td>\n",
       "      <td>5980</td>\n",
       "      <td>39</td>\n",
       "      <td>7</td>\n",
       "      <td>2</td>\n",
       "      <td>4</td>\n",
       "    </tr>\n",
       "    <tr>\n",
       "      <th>...</th>\n",
       "      <td>...</td>\n",
       "      <td>...</td>\n",
       "      <td>...</td>\n",
       "      <td>...</td>\n",
       "      <td>...</td>\n",
       "      <td>...</td>\n",
       "      <td>...</td>\n",
       "      <td>...</td>\n",
       "    </tr>\n",
       "    <tr>\n",
       "      <th>2020-05-28</th>\n",
       "      <td>童鞋</td>\n",
       "      <td>Sally</td>\n",
       "      <td>尺寸建議:版型正常</td>\n",
       "      <td>4304</td>\n",
       "      <td>37</td>\n",
       "      <td>14</td>\n",
       "      <td>1</td>\n",
       "      <td>3</td>\n",
       "    </tr>\n",
       "    <tr>\n",
       "      <th>2020-05-29</th>\n",
       "      <td>涼鞋</td>\n",
       "      <td>Giselle</td>\n",
       "      <td>細緻水鑽構成的簡約設計，締造出鮮明的形象，為穿搭注入閃亮元素，營造優雅氛圍，透露出一絲活力氣息。</td>\n",
       "      <td>4936</td>\n",
       "      <td>40</td>\n",
       "      <td>11</td>\n",
       "      <td>3</td>\n",
       "      <td>31</td>\n",
       "    </tr>\n",
       "    <tr>\n",
       "      <th>2020-05-30</th>\n",
       "      <td>低跟</td>\n",
       "      <td>Vesta</td>\n",
       "      <td>新穎鞋跟彰顯不羈的個性，強勢尖頭增添自信風采，繽紛色塊跳脫框架，翻玩復古瑪莉年代。</td>\n",
       "      <td>5980</td>\n",
       "      <td>36.5</td>\n",
       "      <td>12</td>\n",
       "      <td>5</td>\n",
       "      <td>20</td>\n",
       "    </tr>\n",
       "    <tr>\n",
       "      <th>2020-05-30</th>\n",
       "      <td>高跟</td>\n",
       "      <td>Julia</td>\n",
       "      <td>搖曳的背影穿戴迷人的綁結裝飾，適合甜美又帶點性感的您。</td>\n",
       "      <td>9075</td>\n",
       "      <td>35</td>\n",
       "      <td>3</td>\n",
       "      <td>1</td>\n",
       "      <td>13</td>\n",
       "    </tr>\n",
       "    <tr>\n",
       "      <th>2020-05-30</th>\n",
       "      <td>童鞋</td>\n",
       "      <td>Little Elsa</td>\n",
       "      <td>光潔如絲的高級鍛料包覆鞋身，佐以五朵精緻花蕊。蕊心點綴著艾莎公主施以魔法晶瑩剔透的耀眼冰晶，...</td>\n",
       "      <td>2680</td>\n",
       "      <td>3 (21.7cm)</td>\n",
       "      <td>7</td>\n",
       "      <td>7</td>\n",
       "      <td>19</td>\n",
       "    </tr>\n",
       "  </tbody>\n",
       "</table>\n",
       "<p>140 rows × 8 columns</p>\n",
       "</div>"
      ],
      "text/plain": [
       "           category         name  \\\n",
       "date                               \n",
       "2020-03-02       男鞋       ARTHUR   \n",
       "2020-03-03       童鞋  Little Elsa   \n",
       "2020-03-05       靴子       380778   \n",
       "2020-03-06       童鞋  Little Elsa   \n",
       "2020-03-06       高跟       380648   \n",
       "...             ...          ...   \n",
       "2020-05-28       童鞋        Sally   \n",
       "2020-05-29       涼鞋      Giselle   \n",
       "2020-05-30       低跟        Vesta   \n",
       "2020-05-30       高跟        Julia   \n",
       "2020-05-30       童鞋  Little Elsa   \n",
       "\n",
       "                                                     describe  price  \\\n",
       "date                                                                   \n",
       "2020-03-02                              傳統牛津鞋搭配鱷魚壓紋,呈現出奢華和專業。   8200   \n",
       "2020-03-03  光潔如絲的高級鍛料包覆鞋身，佐以五朵精緻花蕊。蕊心點綴著艾莎公主施以魔法晶瑩剔透的耀眼冰晶，...   2680   \n",
       "2020-03-05  打造專屬自己個性的時尚風格，獨樹一格的鉚釘方扣，讓靴款保持極簡俐落的模樣，輕鬆展現俐落前衛的...   4261   \n",
       "2020-03-06  光潔如絲的高級鍛料包覆鞋身，佐以五朵精緻花蕊。蕊心點綴著艾莎公主施以魔法晶瑩剔透的耀眼冰晶，...   2680   \n",
       "2020-03-06                     黑色鏡面皮質，展現俐落的氣勢及態度，完美詮釋自己的時尚風格。   5980   \n",
       "...                                                       ...    ...   \n",
       "2020-05-28                                          尺寸建議:版型正常   4304   \n",
       "2020-05-29   細緻水鑽構成的簡約設計，締造出鮮明的形象，為穿搭注入閃亮元素，營造優雅氛圍，透露出一絲活力氣息。   4936   \n",
       "2020-05-30          新穎鞋跟彰顯不羈的個性，強勢尖頭增添自信風采，繽紛色塊跳脫框架，翻玩復古瑪莉年代。   5980   \n",
       "2020-05-30                        搖曳的背影穿戴迷人的綁結裝飾，適合甜美又帶點性感的您。   9075   \n",
       "2020-05-30  光潔如絲的高級鍛料包覆鞋身，佐以五朵精緻花蕊。蕊心點綴著艾莎公主施以魔法晶瑩剔透的耀眼冰晶，...   2680   \n",
       "\n",
       "                  size  stock  count  quantity  \n",
       "date                                            \n",
       "2020-03-02         5.5      8      3         1  \n",
       "2020-03-03         大童2     13      2        19  \n",
       "2020-03-05          38      6      3         4  \n",
       "2020-03-06          12     11      2        35  \n",
       "2020-03-06          39      7      2         4  \n",
       "...                ...    ...    ...       ...  \n",
       "2020-05-28          37     14      1         3  \n",
       "2020-05-29          40     11      3        31  \n",
       "2020-05-30        36.5     12      5        20  \n",
       "2020-05-30          35      3      1        13  \n",
       "2020-05-30  3 (21.7cm)      7      7        19  \n",
       "\n",
       "[140 rows x 8 columns]"
      ]
     },
     "execution_count": 7,
     "metadata": {},
     "output_type": "execute_result"
    }
   ],
   "source": [
    "spring"
   ]
  },
  {
   "cell_type": "code",
   "execution_count": null,
   "id": "b2e27634",
   "metadata": {},
   "outputs": [],
   "source": [
    "springsale=pd.DataFrame(spring)\n",
    "springsale.to_excel('spring2020.xlsx')"
   ]
  },
  {
   "cell_type": "code",
   "execution_count": 8,
   "id": "2dd8457d",
   "metadata": {},
   "outputs": [],
   "source": [
    "catespring=spring.groupby('category')     #分類"
   ]
  },
  {
   "cell_type": "code",
   "execution_count": 9,
   "id": "2fae0253",
   "metadata": {},
   "outputs": [
    {
     "data": {
      "text/html": [
       "<div>\n",
       "<style scoped>\n",
       "    .dataframe tbody tr th:only-of-type {\n",
       "        vertical-align: middle;\n",
       "    }\n",
       "\n",
       "    .dataframe tbody tr th {\n",
       "        vertical-align: top;\n",
       "    }\n",
       "\n",
       "    .dataframe thead tr th {\n",
       "        text-align: left;\n",
       "    }\n",
       "\n",
       "    .dataframe thead tr:last-of-type th {\n",
       "        text-align: right;\n",
       "    }\n",
       "</style>\n",
       "<table border=\"1\" class=\"dataframe\">\n",
       "  <thead>\n",
       "    <tr>\n",
       "      <th></th>\n",
       "      <th colspan=\"8\" halign=\"left\">price</th>\n",
       "      <th colspan=\"2\" halign=\"left\">stock</th>\n",
       "      <th>...</th>\n",
       "      <th colspan=\"2\" halign=\"left\">count</th>\n",
       "      <th colspan=\"8\" halign=\"left\">quantity</th>\n",
       "    </tr>\n",
       "    <tr>\n",
       "      <th></th>\n",
       "      <th>count</th>\n",
       "      <th>mean</th>\n",
       "      <th>std</th>\n",
       "      <th>min</th>\n",
       "      <th>25%</th>\n",
       "      <th>50%</th>\n",
       "      <th>75%</th>\n",
       "      <th>max</th>\n",
       "      <th>count</th>\n",
       "      <th>mean</th>\n",
       "      <th>...</th>\n",
       "      <th>75%</th>\n",
       "      <th>max</th>\n",
       "      <th>count</th>\n",
       "      <th>mean</th>\n",
       "      <th>std</th>\n",
       "      <th>min</th>\n",
       "      <th>25%</th>\n",
       "      <th>50%</th>\n",
       "      <th>75%</th>\n",
       "      <th>max</th>\n",
       "    </tr>\n",
       "    <tr>\n",
       "      <th>category</th>\n",
       "      <th></th>\n",
       "      <th></th>\n",
       "      <th></th>\n",
       "      <th></th>\n",
       "      <th></th>\n",
       "      <th></th>\n",
       "      <th></th>\n",
       "      <th></th>\n",
       "      <th></th>\n",
       "      <th></th>\n",
       "      <th></th>\n",
       "      <th></th>\n",
       "      <th></th>\n",
       "      <th></th>\n",
       "      <th></th>\n",
       "      <th></th>\n",
       "      <th></th>\n",
       "      <th></th>\n",
       "      <th></th>\n",
       "      <th></th>\n",
       "      <th></th>\n",
       "    </tr>\n",
       "  </thead>\n",
       "  <tbody>\n",
       "    <tr>\n",
       "      <th>低跟</th>\n",
       "      <td>19.0</td>\n",
       "      <td>5809.631579</td>\n",
       "      <td>1642.967140</td>\n",
       "      <td>4280.0</td>\n",
       "      <td>4980.00</td>\n",
       "      <td>5280.0</td>\n",
       "      <td>5980.0</td>\n",
       "      <td>10564.0</td>\n",
       "      <td>19.0</td>\n",
       "      <td>9.263158</td>\n",
       "      <td>...</td>\n",
       "      <td>5.00</td>\n",
       "      <td>7.0</td>\n",
       "      <td>19.0</td>\n",
       "      <td>24.052632</td>\n",
       "      <td>7.129545</td>\n",
       "      <td>12.0</td>\n",
       "      <td>19.00</td>\n",
       "      <td>23.0</td>\n",
       "      <td>29.5</td>\n",
       "      <td>36.0</td>\n",
       "    </tr>\n",
       "    <tr>\n",
       "      <th>平底</th>\n",
       "      <td>23.0</td>\n",
       "      <td>4736.521739</td>\n",
       "      <td>1003.551007</td>\n",
       "      <td>2980.0</td>\n",
       "      <td>4130.00</td>\n",
       "      <td>4980.0</td>\n",
       "      <td>4980.0</td>\n",
       "      <td>6280.0</td>\n",
       "      <td>23.0</td>\n",
       "      <td>8.391304</td>\n",
       "      <td>...</td>\n",
       "      <td>5.00</td>\n",
       "      <td>7.0</td>\n",
       "      <td>23.0</td>\n",
       "      <td>18.565217</td>\n",
       "      <td>10.352102</td>\n",
       "      <td>1.0</td>\n",
       "      <td>11.00</td>\n",
       "      <td>19.0</td>\n",
       "      <td>26.0</td>\n",
       "      <td>36.0</td>\n",
       "    </tr>\n",
       "    <tr>\n",
       "      <th>涼鞋</th>\n",
       "      <td>8.0</td>\n",
       "      <td>6182.000000</td>\n",
       "      <td>2456.149833</td>\n",
       "      <td>3980.0</td>\n",
       "      <td>3980.00</td>\n",
       "      <td>6068.0</td>\n",
       "      <td>7200.0</td>\n",
       "      <td>10980.0</td>\n",
       "      <td>8.0</td>\n",
       "      <td>8.625000</td>\n",
       "      <td>...</td>\n",
       "      <td>4.50</td>\n",
       "      <td>7.0</td>\n",
       "      <td>8.0</td>\n",
       "      <td>17.125000</td>\n",
       "      <td>15.495967</td>\n",
       "      <td>0.0</td>\n",
       "      <td>0.75</td>\n",
       "      <td>19.0</td>\n",
       "      <td>31.5</td>\n",
       "      <td>34.0</td>\n",
       "    </tr>\n",
       "    <tr>\n",
       "      <th>男鞋</th>\n",
       "      <td>20.0</td>\n",
       "      <td>5595.000000</td>\n",
       "      <td>1280.737863</td>\n",
       "      <td>3980.0</td>\n",
       "      <td>4980.00</td>\n",
       "      <td>4980.0</td>\n",
       "      <td>5435.0</td>\n",
       "      <td>8200.0</td>\n",
       "      <td>20.0</td>\n",
       "      <td>9.300000</td>\n",
       "      <td>...</td>\n",
       "      <td>6.25</td>\n",
       "      <td>7.0</td>\n",
       "      <td>20.0</td>\n",
       "      <td>18.300000</td>\n",
       "      <td>7.814292</td>\n",
       "      <td>1.0</td>\n",
       "      <td>14.00</td>\n",
       "      <td>19.0</td>\n",
       "      <td>22.0</td>\n",
       "      <td>32.0</td>\n",
       "    </tr>\n",
       "    <tr>\n",
       "      <th>童鞋</th>\n",
       "      <td>12.0</td>\n",
       "      <td>2790.333333</td>\n",
       "      <td>564.180392</td>\n",
       "      <td>1980.0</td>\n",
       "      <td>2680.00</td>\n",
       "      <td>2680.0</td>\n",
       "      <td>2980.0</td>\n",
       "      <td>4304.0</td>\n",
       "      <td>12.0</td>\n",
       "      <td>9.416667</td>\n",
       "      <td>...</td>\n",
       "      <td>6.00</td>\n",
       "      <td>7.0</td>\n",
       "      <td>12.0</td>\n",
       "      <td>24.000000</td>\n",
       "      <td>10.392305</td>\n",
       "      <td>3.0</td>\n",
       "      <td>18.00</td>\n",
       "      <td>24.0</td>\n",
       "      <td>33.5</td>\n",
       "      <td>35.0</td>\n",
       "    </tr>\n",
       "    <tr>\n",
       "      <th>靴子</th>\n",
       "      <td>8.0</td>\n",
       "      <td>5877.375000</td>\n",
       "      <td>1763.975051</td>\n",
       "      <td>3237.0</td>\n",
       "      <td>4294.75</td>\n",
       "      <td>6417.5</td>\n",
       "      <td>7200.0</td>\n",
       "      <td>7980.0</td>\n",
       "      <td>8.0</td>\n",
       "      <td>7.875000</td>\n",
       "      <td>...</td>\n",
       "      <td>6.00</td>\n",
       "      <td>7.0</td>\n",
       "      <td>8.0</td>\n",
       "      <td>12.875000</td>\n",
       "      <td>8.322731</td>\n",
       "      <td>3.0</td>\n",
       "      <td>6.25</td>\n",
       "      <td>12.5</td>\n",
       "      <td>18.5</td>\n",
       "      <td>26.0</td>\n",
       "    </tr>\n",
       "    <tr>\n",
       "      <th>高跟</th>\n",
       "      <td>50.0</td>\n",
       "      <td>9630.380000</td>\n",
       "      <td>12995.123288</td>\n",
       "      <td>2992.0</td>\n",
       "      <td>5289.00</td>\n",
       "      <td>6800.0</td>\n",
       "      <td>7880.0</td>\n",
       "      <td>69800.0</td>\n",
       "      <td>50.0</td>\n",
       "      <td>7.780000</td>\n",
       "      <td>...</td>\n",
       "      <td>6.00</td>\n",
       "      <td>7.0</td>\n",
       "      <td>50.0</td>\n",
       "      <td>18.180000</td>\n",
       "      <td>9.836811</td>\n",
       "      <td>1.0</td>\n",
       "      <td>9.50</td>\n",
       "      <td>18.5</td>\n",
       "      <td>26.5</td>\n",
       "      <td>36.0</td>\n",
       "    </tr>\n",
       "  </tbody>\n",
       "</table>\n",
       "<p>7 rows × 32 columns</p>\n",
       "</div>"
      ],
      "text/plain": [
       "         price                                                              \\\n",
       "         count         mean           std     min      25%     50%     75%   \n",
       "category                                                                     \n",
       "低跟        19.0  5809.631579   1642.967140  4280.0  4980.00  5280.0  5980.0   \n",
       "平底        23.0  4736.521739   1003.551007  2980.0  4130.00  4980.0  4980.0   \n",
       "涼鞋         8.0  6182.000000   2456.149833  3980.0  3980.00  6068.0  7200.0   \n",
       "男鞋        20.0  5595.000000   1280.737863  3980.0  4980.00  4980.0  5435.0   \n",
       "童鞋        12.0  2790.333333    564.180392  1980.0  2680.00  2680.0  2980.0   \n",
       "靴子         8.0  5877.375000   1763.975051  3237.0  4294.75  6417.5  7200.0   \n",
       "高跟        50.0  9630.380000  12995.123288  2992.0  5289.00  6800.0  7880.0   \n",
       "\n",
       "                  stock            ... count      quantity             \\\n",
       "              max count      mean  ...   75%  max    count       mean   \n",
       "category                           ...                                  \n",
       "低跟        10564.0  19.0  9.263158  ...  5.00  7.0     19.0  24.052632   \n",
       "平底         6280.0  23.0  8.391304  ...  5.00  7.0     23.0  18.565217   \n",
       "涼鞋        10980.0   8.0  8.625000  ...  4.50  7.0      8.0  17.125000   \n",
       "男鞋         8200.0  20.0  9.300000  ...  6.25  7.0     20.0  18.300000   \n",
       "童鞋         4304.0  12.0  9.416667  ...  6.00  7.0     12.0  24.000000   \n",
       "靴子         7980.0   8.0  7.875000  ...  6.00  7.0      8.0  12.875000   \n",
       "高跟        69800.0  50.0  7.780000  ...  6.00  7.0     50.0  18.180000   \n",
       "\n",
       "                                                    \n",
       "                std   min    25%   50%   75%   max  \n",
       "category                                            \n",
       "低跟         7.129545  12.0  19.00  23.0  29.5  36.0  \n",
       "平底        10.352102   1.0  11.00  19.0  26.0  36.0  \n",
       "涼鞋        15.495967   0.0   0.75  19.0  31.5  34.0  \n",
       "男鞋         7.814292   1.0  14.00  19.0  22.0  32.0  \n",
       "童鞋        10.392305   3.0  18.00  24.0  33.5  35.0  \n",
       "靴子         8.322731   3.0   6.25  12.5  18.5  26.0  \n",
       "高跟         9.836811   1.0   9.50  18.5  26.5  36.0  \n",
       "\n",
       "[7 rows x 32 columns]"
      ]
     },
     "execution_count": 9,
     "metadata": {},
     "output_type": "execute_result"
    }
   ],
   "source": [
    "catespring.describe()                "
   ]
  },
  {
   "cell_type": "code",
   "execution_count": 10,
   "id": "ffcbc6ff",
   "metadata": {
    "scrolled": true
   },
   "outputs": [
    {
     "data": {
      "text/plain": [
       "category\n",
       "低跟    457\n",
       "平底    427\n",
       "涼鞋    137\n",
       "男鞋    366\n",
       "童鞋    288\n",
       "靴子    103\n",
       "高跟    909\n",
       "Name: quantity, dtype: int64"
      ]
     },
     "execution_count": 10,
     "metadata": {},
     "output_type": "execute_result"
    }
   ],
   "source": [
    "catespring['quantity'].sum()            #春季各類銷售總數"
   ]
  },
  {
   "cell_type": "code",
   "execution_count": null,
   "id": "267b18c8",
   "metadata": {},
   "outputs": [],
   "source": [
    "springsale=pd.DataFrame(spring)\n",
    "springsale.to_excel('spring2020.xlsx')"
   ]
  },
  {
   "cell_type": "code",
   "execution_count": 11,
   "id": "429d7820",
   "metadata": {
    "scrolled": true
   },
   "outputs": [
    {
     "data": {
      "text/html": [
       "<div>\n",
       "<style scoped>\n",
       "    .dataframe tbody tr th:only-of-type {\n",
       "        vertical-align: middle;\n",
       "    }\n",
       "\n",
       "    .dataframe tbody tr th {\n",
       "        vertical-align: top;\n",
       "    }\n",
       "\n",
       "    .dataframe thead th {\n",
       "        text-align: right;\n",
       "    }\n",
       "</style>\n",
       "<table border=\"1\" class=\"dataframe\">\n",
       "  <thead>\n",
       "    <tr style=\"text-align: right;\">\n",
       "      <th></th>\n",
       "      <th>count</th>\n",
       "      <th>unique</th>\n",
       "      <th>top</th>\n",
       "      <th>freq</th>\n",
       "    </tr>\n",
       "    <tr>\n",
       "      <th>category</th>\n",
       "      <th></th>\n",
       "      <th></th>\n",
       "      <th></th>\n",
       "      <th></th>\n",
       "    </tr>\n",
       "  </thead>\n",
       "  <tbody>\n",
       "    <tr>\n",
       "      <th>低跟</th>\n",
       "      <td>19</td>\n",
       "      <td>11</td>\n",
       "      <td>380680</td>\n",
       "      <td>3</td>\n",
       "    </tr>\n",
       "    <tr>\n",
       "      <th>平底</th>\n",
       "      <td>23</td>\n",
       "      <td>14</td>\n",
       "      <td>Claire</td>\n",
       "      <td>4</td>\n",
       "    </tr>\n",
       "    <tr>\n",
       "      <th>涼鞋</th>\n",
       "      <td>8</td>\n",
       "      <td>5</td>\n",
       "      <td>Eva</td>\n",
       "      <td>3</td>\n",
       "    </tr>\n",
       "    <tr>\n",
       "      <th>男鞋</th>\n",
       "      <td>20</td>\n",
       "      <td>10</td>\n",
       "      <td>AVERY</td>\n",
       "      <td>4</td>\n",
       "    </tr>\n",
       "    <tr>\n",
       "      <th>童鞋</th>\n",
       "      <td>12</td>\n",
       "      <td>6</td>\n",
       "      <td>Little Elsa</td>\n",
       "      <td>5</td>\n",
       "    </tr>\n",
       "    <tr>\n",
       "      <th>靴子</th>\n",
       "      <td>8</td>\n",
       "      <td>6</td>\n",
       "      <td>Bianca</td>\n",
       "      <td>2</td>\n",
       "    </tr>\n",
       "    <tr>\n",
       "      <th>高跟</th>\n",
       "      <td>50</td>\n",
       "      <td>30</td>\n",
       "      <td>Dalia</td>\n",
       "      <td>5</td>\n",
       "    </tr>\n",
       "  </tbody>\n",
       "</table>\n",
       "</div>"
      ],
      "text/plain": [
       "         count unique          top freq\n",
       "category                               \n",
       "低跟          19     11       380680    3\n",
       "平底          23     14       Claire    4\n",
       "涼鞋           8      5          Eva    3\n",
       "男鞋          20     10        AVERY    4\n",
       "童鞋          12      6  Little Elsa    5\n",
       "靴子           8      6       Bianca    2\n",
       "高跟          50     30        Dalia    5"
      ]
     },
     "execution_count": 11,
     "metadata": {},
     "output_type": "execute_result"
    }
   ],
   "source": [
    "catespring['name'].describe()            #春季各款銷售最好鞋款"
   ]
  },
  {
   "cell_type": "code",
   "execution_count": 14,
   "id": "5a52b344",
   "metadata": {},
   "outputs": [],
   "source": [
    "bestsell=catespring['name'].describe() \n",
    "springsell=pd.DataFrame(bestsell)\n",
    "springsell.to_excel('springsell2020.xlsx')  "
   ]
  },
  {
   "cell_type": "code",
   "execution_count": 23,
   "id": "dcb02001",
   "metadata": {},
   "outputs": [],
   "source": [
    "df1=pd.DataFrame(pd.read_excel('Momentanee.xlsx' , sheet_name = 'Sheet1'))\n",
    "df2=pd.DataFrame(pd.read_excel('springsell2020.xlsx' , sheet_name = 'Sheet1'))\n",
    "result=pd.concat([df1,df2],sort = False)            #合併兩個excel\n",
    "writer=pd.ExcelWriter('resultspring.xlsx')\n",
    "result.to_excel(writer,index=False)\n",
    "writer.save()"
   ]
  },
  {
   "cell_type": "code",
   "execution_count": null,
   "id": "7de72415",
   "metadata": {},
   "outputs": [],
   "source": []
  },
  {
   "cell_type": "code",
   "execution_count": 39,
   "id": "b09eada7",
   "metadata": {},
   "outputs": [],
   "source": [
    "summer=data.loc['2020-06':'2020-08']   #取出夏季時間"
   ]
  },
  {
   "cell_type": "code",
   "execution_count": 40,
   "id": "a9d479a6",
   "metadata": {},
   "outputs": [],
   "source": [
    "summer=summer.sort_values(by=['date'])      #排序時間"
   ]
  },
  {
   "cell_type": "code",
   "execution_count": 41,
   "id": "5a90f2b8",
   "metadata": {
    "scrolled": true
   },
   "outputs": [
    {
     "data": {
      "text/html": [
       "<div>\n",
       "<style scoped>\n",
       "    .dataframe tbody tr th:only-of-type {\n",
       "        vertical-align: middle;\n",
       "    }\n",
       "\n",
       "    .dataframe tbody tr th {\n",
       "        vertical-align: top;\n",
       "    }\n",
       "\n",
       "    .dataframe thead th {\n",
       "        text-align: right;\n",
       "    }\n",
       "</style>\n",
       "<table border=\"1\" class=\"dataframe\">\n",
       "  <thead>\n",
       "    <tr style=\"text-align: right;\">\n",
       "      <th></th>\n",
       "      <th>category</th>\n",
       "      <th>name</th>\n",
       "      <th>describe</th>\n",
       "      <th>price</th>\n",
       "      <th>size</th>\n",
       "      <th>stock</th>\n",
       "      <th>count</th>\n",
       "      <th>quantity</th>\n",
       "    </tr>\n",
       "    <tr>\n",
       "      <th>date</th>\n",
       "      <th></th>\n",
       "      <th></th>\n",
       "      <th></th>\n",
       "      <th></th>\n",
       "      <th></th>\n",
       "      <th></th>\n",
       "      <th></th>\n",
       "      <th></th>\n",
       "    </tr>\n",
       "  </thead>\n",
       "  <tbody>\n",
       "    <tr>\n",
       "      <th>2020-06-01</th>\n",
       "      <td>童鞋</td>\n",
       "      <td>Little Elsa</td>\n",
       "      <td>光潔如絲的高級鍛料包覆鞋身，佐以五朵精緻花蕊。蕊心點綴著艾莎公主施以魔法晶瑩剔透的耀眼冰晶，...</td>\n",
       "      <td>2680</td>\n",
       "      <td>13</td>\n",
       "      <td>5</td>\n",
       "      <td>5</td>\n",
       "      <td>1</td>\n",
       "    </tr>\n",
       "    <tr>\n",
       "      <th>2020-06-01</th>\n",
       "      <td>童鞋</td>\n",
       "      <td>Little Eliana</td>\n",
       "      <td>花團錦簇妝點足間，蕊心幾顆晶瑩朝露。粉嫩清新氣質出眾，優雅宛若森林精靈。</td>\n",
       "      <td>4358</td>\n",
       "      <td>40</td>\n",
       "      <td>10</td>\n",
       "      <td>4</td>\n",
       "      <td>26</td>\n",
       "    </tr>\n",
       "    <tr>\n",
       "      <th>2020-06-02</th>\n",
       "      <td>低跟</td>\n",
       "      <td>Mandy</td>\n",
       "      <td>尖頭楦型可拉長整體比例，特殊圓跟好穿又穩固!</td>\n",
       "      <td>5280</td>\n",
       "      <td>38</td>\n",
       "      <td>10</td>\n",
       "      <td>1</td>\n",
       "      <td>11</td>\n",
       "    </tr>\n",
       "    <tr>\n",
       "      <th>2020-06-02</th>\n",
       "      <td>高跟</td>\n",
       "      <td>Shawna</td>\n",
       "      <td>耀眼光澤感禮鞋宛如宮廷中交錯踩踏步伐的女伶，色澤閃耀燦若金秋，耀眼的魅力演繹著極致風華。</td>\n",
       "      <td>6280</td>\n",
       "      <td>37</td>\n",
       "      <td>7</td>\n",
       "      <td>1</td>\n",
       "      <td>30</td>\n",
       "    </tr>\n",
       "    <tr>\n",
       "      <th>2020-06-05</th>\n",
       "      <td>涼鞋</td>\n",
       "      <td>Giselle</td>\n",
       "      <td>細緻水鑽構成的簡約設計，締造出鮮明的形象，為穿搭注入閃亮元素，營造優雅氛圍，透露出一絲活力氣息。</td>\n",
       "      <td>8188</td>\n",
       "      <td>36</td>\n",
       "      <td>5</td>\n",
       "      <td>1</td>\n",
       "      <td>34</td>\n",
       "    </tr>\n",
       "    <tr>\n",
       "      <th>...</th>\n",
       "      <td>...</td>\n",
       "      <td>...</td>\n",
       "      <td>...</td>\n",
       "      <td>...</td>\n",
       "      <td>...</td>\n",
       "      <td>...</td>\n",
       "      <td>...</td>\n",
       "      <td>...</td>\n",
       "    </tr>\n",
       "    <tr>\n",
       "      <th>2020-08-27</th>\n",
       "      <td>高跟</td>\n",
       "      <td>Vanessa</td>\n",
       "      <td>以米白為主視覺，運用透膚細紗材質綴上流蘇水鑽，領導流行又顯優雅高貴。</td>\n",
       "      <td>12800</td>\n",
       "      <td>39.5</td>\n",
       "      <td>7</td>\n",
       "      <td>1</td>\n",
       "      <td>18</td>\n",
       "    </tr>\n",
       "    <tr>\n",
       "      <th>2020-08-28</th>\n",
       "      <td>高跟</td>\n",
       "      <td>380565A</td>\n",
       "      <td>尖頭設計，絕對是「氣場」的代名詞，不僅實力展現高冷女神氣質，還可讓你的腿看起來更細，身材比例...</td>\n",
       "      <td>4980</td>\n",
       "      <td>35</td>\n",
       "      <td>5</td>\n",
       "      <td>6</td>\n",
       "      <td>8</td>\n",
       "    </tr>\n",
       "    <tr>\n",
       "      <th>2020-08-28</th>\n",
       "      <td>平底</td>\n",
       "      <td>380743</td>\n",
       "      <td>金屬亮面皮革格外醒目，搭配T字細帶設計，打造低調奢華的輕時尚美學</td>\n",
       "      <td>3280</td>\n",
       "      <td>37</td>\n",
       "      <td>6</td>\n",
       "      <td>1</td>\n",
       "      <td>27</td>\n",
       "    </tr>\n",
       "    <tr>\n",
       "      <th>2020-08-30</th>\n",
       "      <td>高跟</td>\n",
       "      <td>380763</td>\n",
       "      <td>雙帶設計，完全包覆腳型粗跟延展腿部線條。時尚裡兼具舒適。</td>\n",
       "      <td>3980</td>\n",
       "      <td>36</td>\n",
       "      <td>12</td>\n",
       "      <td>1</td>\n",
       "      <td>33</td>\n",
       "    </tr>\n",
       "    <tr>\n",
       "      <th>2020-08-30</th>\n",
       "      <td>涼鞋</td>\n",
       "      <td>380765</td>\n",
       "      <td>扣環涼鞋設計除了展現時尚俏皮的風格，柔膚粉配色更讓你提量一階膚色，夏日就該來一雙清爽感涼鞋，...</td>\n",
       "      <td>3980</td>\n",
       "      <td>37</td>\n",
       "      <td>8</td>\n",
       "      <td>4</td>\n",
       "      <td>12</td>\n",
       "    </tr>\n",
       "  </tbody>\n",
       "</table>\n",
       "<p>126 rows × 8 columns</p>\n",
       "</div>"
      ],
      "text/plain": [
       "           category           name  \\\n",
       "date                                 \n",
       "2020-06-01       童鞋    Little Elsa   \n",
       "2020-06-01       童鞋  Little Eliana   \n",
       "2020-06-02       低跟          Mandy   \n",
       "2020-06-02       高跟         Shawna   \n",
       "2020-06-05       涼鞋        Giselle   \n",
       "...             ...            ...   \n",
       "2020-08-27       高跟        Vanessa   \n",
       "2020-08-28       高跟        380565A   \n",
       "2020-08-28       平底         380743   \n",
       "2020-08-30       高跟         380763   \n",
       "2020-08-30       涼鞋         380765   \n",
       "\n",
       "                                                     describe  price  size  \\\n",
       "date                                                                         \n",
       "2020-06-01  光潔如絲的高級鍛料包覆鞋身，佐以五朵精緻花蕊。蕊心點綴著艾莎公主施以魔法晶瑩剔透的耀眼冰晶，...   2680    13   \n",
       "2020-06-01               花團錦簇妝點足間，蕊心幾顆晶瑩朝露。粉嫩清新氣質出眾，優雅宛若森林精靈。   4358    40   \n",
       "2020-06-02                             尖頭楦型可拉長整體比例，特殊圓跟好穿又穩固!   5280    38   \n",
       "2020-06-02       耀眼光澤感禮鞋宛如宮廷中交錯踩踏步伐的女伶，色澤閃耀燦若金秋，耀眼的魅力演繹著極致風華。   6280    37   \n",
       "2020-06-05   細緻水鑽構成的簡約設計，締造出鮮明的形象，為穿搭注入閃亮元素，營造優雅氛圍，透露出一絲活力氣息。   8188    36   \n",
       "...                                                       ...    ...   ...   \n",
       "2020-08-27                 以米白為主視覺，運用透膚細紗材質綴上流蘇水鑽，領導流行又顯優雅高貴。  12800  39.5   \n",
       "2020-08-28  尖頭設計，絕對是「氣場」的代名詞，不僅實力展現高冷女神氣質，還可讓你的腿看起來更細，身材比例...   4980    35   \n",
       "2020-08-28                   金屬亮面皮革格外醒目，搭配T字細帶設計，打造低調奢華的輕時尚美學   3280    37   \n",
       "2020-08-30                       雙帶設計，完全包覆腳型粗跟延展腿部線條。時尚裡兼具舒適。   3980    36   \n",
       "2020-08-30  扣環涼鞋設計除了展現時尚俏皮的風格，柔膚粉配色更讓你提量一階膚色，夏日就該來一雙清爽感涼鞋，...   3980    37   \n",
       "\n",
       "            stock  count  quantity  \n",
       "date                                \n",
       "2020-06-01      5      5         1  \n",
       "2020-06-01     10      4        26  \n",
       "2020-06-02     10      1        11  \n",
       "2020-06-02      7      1        30  \n",
       "2020-06-05      5      1        34  \n",
       "...           ...    ...       ...  \n",
       "2020-08-27      7      1        18  \n",
       "2020-08-28      5      6         8  \n",
       "2020-08-28      6      1        27  \n",
       "2020-08-30     12      1        33  \n",
       "2020-08-30      8      4        12  \n",
       "\n",
       "[126 rows x 8 columns]"
      ]
     },
     "execution_count": 41,
     "metadata": {},
     "output_type": "execute_result"
    }
   ],
   "source": [
    "summer"
   ]
  },
  {
   "cell_type": "code",
   "execution_count": null,
   "id": "e119a8e9",
   "metadata": {},
   "outputs": [],
   "source": [
    "summersale=pd.DataFrame(summer)\n",
    "summersale.to_excel('summer2020.xlsx')"
   ]
  },
  {
   "cell_type": "code",
   "execution_count": 42,
   "id": "fb860d38",
   "metadata": {},
   "outputs": [],
   "source": [
    "catesummer=summer.groupby('category')     #分類"
   ]
  },
  {
   "cell_type": "code",
   "execution_count": 43,
   "id": "51bd649d",
   "metadata": {},
   "outputs": [
    {
     "data": {
      "text/plain": [
       "category\n",
       "低跟    216\n",
       "平底    683\n",
       "涼鞋    172\n",
       "男鞋    332\n",
       "童鞋    127\n",
       "高跟    733\n",
       "Name: quantity, dtype: int64"
      ]
     },
     "execution_count": 43,
     "metadata": {},
     "output_type": "execute_result"
    }
   ],
   "source": [
    "catesummer['quantity'].sum()              #夏季各類銷售總數"
   ]
  },
  {
   "cell_type": "code",
   "execution_count": 47,
   "id": "694cd4e1",
   "metadata": {},
   "outputs": [
    {
     "data": {
      "text/html": [
       "<div>\n",
       "<style scoped>\n",
       "    .dataframe tbody tr th:only-of-type {\n",
       "        vertical-align: middle;\n",
       "    }\n",
       "\n",
       "    .dataframe tbody tr th {\n",
       "        vertical-align: top;\n",
       "    }\n",
       "\n",
       "    .dataframe thead th {\n",
       "        text-align: right;\n",
       "    }\n",
       "</style>\n",
       "<table border=\"1\" class=\"dataframe\">\n",
       "  <thead>\n",
       "    <tr style=\"text-align: right;\">\n",
       "      <th></th>\n",
       "      <th>count</th>\n",
       "      <th>unique</th>\n",
       "      <th>top</th>\n",
       "      <th>freq</th>\n",
       "    </tr>\n",
       "    <tr>\n",
       "      <th>category</th>\n",
       "      <th></th>\n",
       "      <th></th>\n",
       "      <th></th>\n",
       "      <th></th>\n",
       "    </tr>\n",
       "  </thead>\n",
       "  <tbody>\n",
       "    <tr>\n",
       "      <th>低跟</th>\n",
       "      <td>11</td>\n",
       "      <td>8</td>\n",
       "      <td>380684</td>\n",
       "      <td>3</td>\n",
       "    </tr>\n",
       "    <tr>\n",
       "      <th>平底</th>\n",
       "      <td>32</td>\n",
       "      <td>16</td>\n",
       "      <td>Claire</td>\n",
       "      <td>8</td>\n",
       "    </tr>\n",
       "    <tr>\n",
       "      <th>涼鞋</th>\n",
       "      <td>11</td>\n",
       "      <td>8</td>\n",
       "      <td>Medea</td>\n",
       "      <td>2</td>\n",
       "    </tr>\n",
       "    <tr>\n",
       "      <th>男鞋</th>\n",
       "      <td>18</td>\n",
       "      <td>7</td>\n",
       "      <td>BARTON</td>\n",
       "      <td>4</td>\n",
       "    </tr>\n",
       "    <tr>\n",
       "      <th>童鞋</th>\n",
       "      <td>10</td>\n",
       "      <td>6</td>\n",
       "      <td>Little Elsa</td>\n",
       "      <td>4</td>\n",
       "    </tr>\n",
       "    <tr>\n",
       "      <th>高跟</th>\n",
       "      <td>44</td>\n",
       "      <td>26</td>\n",
       "      <td>380648</td>\n",
       "      <td>5</td>\n",
       "    </tr>\n",
       "  </tbody>\n",
       "</table>\n",
       "</div>"
      ],
      "text/plain": [
       "         count unique          top freq\n",
       "category                               \n",
       "低跟          11      8       380684    3\n",
       "平底          32     16       Claire    8\n",
       "涼鞋          11      8        Medea    2\n",
       "男鞋          18      7       BARTON    4\n",
       "童鞋          10      6  Little Elsa    4\n",
       "高跟          44     26       380648    5"
      ]
     },
     "execution_count": 47,
     "metadata": {},
     "output_type": "execute_result"
    }
   ],
   "source": [
    "sumbest=catesummer['name'].describe()  #夏季各款銷售最好鞋款"
   ]
  },
  {
   "cell_type": "code",
   "execution_count": 45,
   "id": "089c082a",
   "metadata": {},
   "outputs": [],
   "source": [
    "sumsell=pd.DataFrame(sumbest)\n",
    "sumsell.to_excel('sumsell.xlsx')"
   ]
  },
  {
   "cell_type": "code",
   "execution_count": 46,
   "id": "47ff36b6",
   "metadata": {},
   "outputs": [],
   "source": [
    "df1 = pd.DataFrame(pd.read_excel('Momentanee.xlsx' , sheet_name = 'Sheet1'))\n",
    "df2 = pd.DataFrame(pd.read_excel('sumsell.xlsx' , sheet_name = 'Sheet1'))\n",
    "resultsummer=pd.concat([df1,df2],sort = False)  \n",
    "writer=pd.ExcelWriter('resultsummer.xlsx')\n",
    "resultsummer.to_excel(writer,index=False)\n",
    "writer.save()"
   ]
  },
  {
   "cell_type": "code",
   "execution_count": null,
   "id": "569ea2c3",
   "metadata": {},
   "outputs": [],
   "source": []
  },
  {
   "cell_type": "code",
   "execution_count": 48,
   "id": "31b90807",
   "metadata": {},
   "outputs": [],
   "source": [
    "autumn=data.loc['2020-09':'2020-11']   #取出秋季時間"
   ]
  },
  {
   "cell_type": "code",
   "execution_count": null,
   "id": "41368dbe",
   "metadata": {},
   "outputs": [],
   "source": [
    "autumn=autumn.sort_values(by=['date'])      #排序時間"
   ]
  },
  {
   "cell_type": "code",
   "execution_count": null,
   "id": "48e139c1",
   "metadata": {
    "scrolled": true
   },
   "outputs": [],
   "source": [
    "autumn"
   ]
  },
  {
   "cell_type": "code",
   "execution_count": null,
   "id": "d56f5f60",
   "metadata": {},
   "outputs": [],
   "source": [
    "autumnsale=pd.DataFrame(autumn)\n",
    "autumnsale.to_excel('autumn2020.xlsx')"
   ]
  },
  {
   "cell_type": "code",
   "execution_count": 50,
   "id": "2b22aae6",
   "metadata": {},
   "outputs": [],
   "source": [
    "cateautumn=autumn.groupby('category')     #分類"
   ]
  },
  {
   "cell_type": "code",
   "execution_count": 51,
   "id": "99068e78",
   "metadata": {},
   "outputs": [
    {
     "data": {
      "text/plain": [
       "category\n",
       "低跟     202\n",
       "平底     725\n",
       "涼鞋     121\n",
       "男鞋     237\n",
       "童鞋     187\n",
       "靴子     138\n",
       "高跟    1064\n",
       "Name: quantity, dtype: int64"
      ]
     },
     "execution_count": 51,
     "metadata": {},
     "output_type": "execute_result"
    }
   ],
   "source": [
    "cateautumn['quantity'].sum()              #秋季各類銷售總數"
   ]
  },
  {
   "cell_type": "code",
   "execution_count": 53,
   "id": "57bcf690",
   "metadata": {},
   "outputs": [],
   "source": [
    "autbest=cateautumn['name'].describe()            #秋季各款銷售最好鞋款"
   ]
  },
  {
   "cell_type": "code",
   "execution_count": 54,
   "id": "8ffa7c64",
   "metadata": {},
   "outputs": [],
   "source": [
    "autsell=pd.DataFrame(autbest)\n",
    "autsell.to_excel('autsell.xlsx')"
   ]
  },
  {
   "cell_type": "code",
   "execution_count": 55,
   "id": "e1c0b4d2",
   "metadata": {},
   "outputs": [],
   "source": [
    "df1 = pd.DataFrame(pd.read_excel('Momentanee.xlsx' , sheet_name = 'Sheet1'))\n",
    "df2 = pd.DataFrame(pd.read_excel('autsell.xlsx' , sheet_name = 'Sheet1'))\n",
    "resultautumn=pd.concat([df1,df2],sort = False)  \n",
    "writer=pd.ExcelWriter('resultautumn.xlsx')\n",
    "resultautumn.to_excel(writer,index=False)\n",
    "writer.save()"
   ]
  },
  {
   "cell_type": "code",
   "execution_count": null,
   "id": "32c15aef",
   "metadata": {},
   "outputs": [],
   "source": []
  },
  {
   "cell_type": "code",
   "execution_count": 56,
   "id": "12252800",
   "metadata": {},
   "outputs": [],
   "source": [
    "winter=data.loc['2020-12':'2021-02']   #取出冬季時間"
   ]
  },
  {
   "cell_type": "code",
   "execution_count": null,
   "id": "d468b00f",
   "metadata": {},
   "outputs": [],
   "source": [
    "winter=winter.sort_values(by=['date'])      #排序時間"
   ]
  },
  {
   "cell_type": "code",
   "execution_count": null,
   "id": "d1a8839b",
   "metadata": {
    "scrolled": true
   },
   "outputs": [],
   "source": [
    "winter"
   ]
  },
  {
   "cell_type": "code",
   "execution_count": null,
   "id": "817d3446",
   "metadata": {},
   "outputs": [],
   "source": [
    "wintersale=pd.DataFrame(winter)\n",
    "wintersale.to_excel('winter2020.xlsx')"
   ]
  },
  {
   "cell_type": "code",
   "execution_count": 57,
   "id": "743dd9ae",
   "metadata": {},
   "outputs": [],
   "source": [
    "catewinter=winter.groupby('category')     #分類"
   ]
  },
  {
   "cell_type": "code",
   "execution_count": null,
   "id": "4d8d02fd",
   "metadata": {},
   "outputs": [],
   "source": [
    "catewinter['quantity'].sum()              #冬季各類銷售總數"
   ]
  },
  {
   "cell_type": "code",
   "execution_count": 59,
   "id": "f12d3b73",
   "metadata": {},
   "outputs": [],
   "source": [
    "winbest=catewinter['name'].describe()            #冬季各款銷售最好鞋款"
   ]
  },
  {
   "cell_type": "code",
   "execution_count": 60,
   "id": "eea9c43f",
   "metadata": {},
   "outputs": [],
   "source": [
    "winsell=pd.DataFrame(winbest)\n",
    "winsell.to_excel('winsell.xlsx')"
   ]
  },
  {
   "cell_type": "code",
   "execution_count": 61,
   "id": "8b3cc599",
   "metadata": {},
   "outputs": [],
   "source": [
    "df1 = pd.DataFrame(pd.read_excel('Momentanee.xlsx' , sheet_name = 'Sheet1'))\n",
    "df2 = pd.DataFrame(pd.read_excel('winsell.xlsx' , sheet_name = 'Sheet1'))\n",
    "resultwinter=pd.concat([df1,df2],sort = False)  \n",
    "writer=pd.ExcelWriter('resultwinter.xlsx')\n",
    "resultwinter.to_excel(writer,index=False)\n",
    "writer.save()"
   ]
  },
  {
   "cell_type": "code",
   "execution_count": null,
   "id": "abbc0040",
   "metadata": {},
   "outputs": [],
   "source": []
  },
  {
   "cell_type": "code",
   "execution_count": null,
   "id": "abb63157",
   "metadata": {},
   "outputs": [],
   "source": [
    "last_summer=data.loc['2021-06':'2021-08']   #取出2021夏季時間  #跟去年比較"
   ]
  },
  {
   "cell_type": "code",
   "execution_count": null,
   "id": "e33eb8f2",
   "metadata": {},
   "outputs": [],
   "source": [
    "last_summer=last_summer.sort_values(by=['date'])      #排序時間"
   ]
  },
  {
   "cell_type": "code",
   "execution_count": null,
   "id": "71081f9c",
   "metadata": {
    "scrolled": true
   },
   "outputs": [],
   "source": [
    "last_summer"
   ]
  },
  {
   "cell_type": "code",
   "execution_count": null,
   "id": "28a0a062",
   "metadata": {},
   "outputs": [],
   "source": [
    "lastsummersale=pd.DataFrame(last_summer)\n",
    "lastsummersale.to_excel('summer2021.xlsx')"
   ]
  },
  {
   "cell_type": "code",
   "execution_count": null,
   "id": "4353ae7e",
   "metadata": {},
   "outputs": [],
   "source": [
    "cate_last_summer=last_summer.groupby('category')     #分類"
   ]
  },
  {
   "cell_type": "code",
   "execution_count": null,
   "id": "0c833182",
   "metadata": {},
   "outputs": [],
   "source": [
    "cate_last_summer['quantity'].sum()              #夏季各類銷售總數"
   ]
  },
  {
   "cell_type": "code",
   "execution_count": null,
   "id": "51826908",
   "metadata": {},
   "outputs": [],
   "source": [
    "cate_last_summer['name'].describe()            #夏季各款銷售最好鞋款"
   ]
  },
  {
   "cell_type": "code",
   "execution_count": null,
   "id": "432178a9",
   "metadata": {},
   "outputs": [],
   "source": [
    "mid_year=data.loc['2020-06':'2020-06']   #取出2020 6月年中慶"
   ]
  },
  {
   "cell_type": "code",
   "execution_count": null,
   "id": "129adabd",
   "metadata": {},
   "outputs": [],
   "source": [
    "mid_year=mid_year.sort_values(by=['date'])      #排序時間"
   ]
  },
  {
   "cell_type": "code",
   "execution_count": null,
   "id": "7a443552",
   "metadata": {
    "scrolled": false
   },
   "outputs": [],
   "source": [
    "mid_year"
   ]
  },
  {
   "cell_type": "code",
   "execution_count": null,
   "id": "e8e17600",
   "metadata": {},
   "outputs": [],
   "source": [
    "midyearsale=pd.DataFrame(mid_year)\n",
    "midyearsale.to_excel('midyearsale.xlsx')"
   ]
  },
  {
   "cell_type": "code",
   "execution_count": null,
   "id": "c673efbb",
   "metadata": {},
   "outputs": [],
   "source": [
    "cate_mid_year=mid_year.groupby('category')     #分類"
   ]
  },
  {
   "cell_type": "code",
   "execution_count": null,
   "id": "e9dea369",
   "metadata": {},
   "outputs": [],
   "source": [
    "cate_mid_year['quantity'].sum()              #年中慶各類銷售總數"
   ]
  },
  {
   "cell_type": "code",
   "execution_count": null,
   "id": "105916c9",
   "metadata": {},
   "outputs": [],
   "source": [
    "cate_mid_year['name'].describe()            #年中慶各款銷售最好鞋款"
   ]
  },
  {
   "cell_type": "code",
   "execution_count": null,
   "id": "e4fe6a74",
   "metadata": {},
   "outputs": [],
   "source": [
    "anniversary=data.loc['2020-10':'2020-10']   #取出2020 10月周年慶"
   ]
  },
  {
   "cell_type": "code",
   "execution_count": null,
   "id": "7d022358",
   "metadata": {},
   "outputs": [],
   "source": [
    "anniversaryr=anniversary.sort_values(by=['date'])      #排序時間"
   ]
  },
  {
   "cell_type": "code",
   "execution_count": null,
   "id": "7ba94222",
   "metadata": {
    "scrolled": false
   },
   "outputs": [],
   "source": [
    "anniversary"
   ]
  },
  {
   "cell_type": "code",
   "execution_count": null,
   "id": "76b06f05",
   "metadata": {},
   "outputs": [],
   "source": [
    "annisale=pd.DataFrame(anniversary)\n",
    "annisale.to_excel('annisale.xlsx')"
   ]
  },
  {
   "cell_type": "code",
   "execution_count": null,
   "id": "3dcf3d3b",
   "metadata": {},
   "outputs": [],
   "source": [
    "cate_anniversary=anniversary.groupby('category')     #分類"
   ]
  },
  {
   "cell_type": "code",
   "execution_count": null,
   "id": "5497aad8",
   "metadata": {},
   "outputs": [],
   "source": [
    "cate_anniversary['quantity'].sum()              #周年慶各類銷售總數"
   ]
  },
  {
   "cell_type": "code",
   "execution_count": null,
   "id": "ddb50b79",
   "metadata": {},
   "outputs": [],
   "source": [
    "cate_anniversary['name'].describe()            #周年慶各款銷售最好鞋款"
   ]
  },
  {
   "cell_type": "code",
   "execution_count": null,
   "id": "57792be3",
   "metadata": {},
   "outputs": [],
   "source": []
  },
  {
   "cell_type": "code",
   "execution_count": null,
   "id": "01c222f3",
   "metadata": {},
   "outputs": [],
   "source": [
    "data.isnull().sum()"
   ]
  },
  {
   "cell_type": "code",
   "execution_count": null,
   "id": "12ab4371",
   "metadata": {},
   "outputs": [],
   "source": [
    "type(data)"
   ]
  },
  {
   "cell_type": "code",
   "execution_count": 2,
   "id": "f5646830",
   "metadata": {},
   "outputs": [
    {
     "data": {
      "text/plain": [
       "6924.817989417989"
      ]
     },
     "execution_count": 2,
     "metadata": {},
     "output_type": "execute_result"
    }
   ],
   "source": [
    "data['price'].mean()"
   ]
  },
  {
   "cell_type": "code",
   "execution_count": null,
   "id": "62edb096",
   "metadata": {},
   "outputs": [],
   "source": [
    "data.describe()"
   ]
  },
  {
   "cell_type": "code",
   "execution_count": 3,
   "id": "117ff14c",
   "metadata": {},
   "outputs": [
    {
     "data": {
      "text/html": [
       "<div>\n",
       "<style scoped>\n",
       "    .dataframe tbody tr th:only-of-type {\n",
       "        vertical-align: middle;\n",
       "    }\n",
       "\n",
       "    .dataframe tbody tr th {\n",
       "        vertical-align: top;\n",
       "    }\n",
       "\n",
       "    .dataframe thead th {\n",
       "        text-align: right;\n",
       "    }\n",
       "</style>\n",
       "<table border=\"1\" class=\"dataframe\">\n",
       "  <thead>\n",
       "    <tr style=\"text-align: right;\">\n",
       "      <th></th>\n",
       "      <th>name</th>\n",
       "      <th>describe</th>\n",
       "      <th>price</th>\n",
       "      <th>size</th>\n",
       "      <th>stock</th>\n",
       "      <th>count</th>\n",
       "      <th>date</th>\n",
       "      <th>quantity</th>\n",
       "    </tr>\n",
       "    <tr>\n",
       "      <th>category</th>\n",
       "      <th></th>\n",
       "      <th></th>\n",
       "      <th></th>\n",
       "      <th></th>\n",
       "      <th></th>\n",
       "      <th></th>\n",
       "      <th></th>\n",
       "      <th></th>\n",
       "    </tr>\n",
       "  </thead>\n",
       "  <tbody>\n",
       "    <tr>\n",
       "      <th>高跟</th>\n",
       "      <td>Alma</td>\n",
       "      <td>尖頭設計，絕對是「氣場」的代名詞，不僅實力展現高冷女神氣質，還可讓你的腿看起來更細，身材比例...</td>\n",
       "      <td>6280</td>\n",
       "      <td>37</td>\n",
       "      <td>14</td>\n",
       "      <td>3</td>\n",
       "      <td>2020-01-02</td>\n",
       "      <td>24</td>\n",
       "    </tr>\n",
       "    <tr>\n",
       "      <th>高跟</th>\n",
       "      <td>Allie</td>\n",
       "      <td>尖頭設計，絕對是「氣場」的代名詞，不僅實力展現高冷女神氣質，還可讓你的腿看起來更細，身材比例...</td>\n",
       "      <td>5280</td>\n",
       "      <td>37</td>\n",
       "      <td>6</td>\n",
       "      <td>3</td>\n",
       "      <td>2021-02-27</td>\n",
       "      <td>36</td>\n",
       "    </tr>\n",
       "    <tr>\n",
       "      <th>高跟</th>\n",
       "      <td>Allie</td>\n",
       "      <td>尖頭設計，絕對是「氣場」的代名詞，不僅實力展現高冷女神氣質，還可讓你的腿看起來更細，身材比例...</td>\n",
       "      <td>5280</td>\n",
       "      <td>38</td>\n",
       "      <td>8</td>\n",
       "      <td>3</td>\n",
       "      <td>2020-09-22</td>\n",
       "      <td>5</td>\n",
       "    </tr>\n",
       "    <tr>\n",
       "      <th>高跟</th>\n",
       "      <td>380799</td>\n",
       "      <td>尖頭設計，絕對是「氣場」的代名詞，不僅實力展現高冷女神氣質，還可讓你的腿看起來更細，身材比例...</td>\n",
       "      <td>5280</td>\n",
       "      <td>37</td>\n",
       "      <td>11</td>\n",
       "      <td>3</td>\n",
       "      <td>2020-10-17</td>\n",
       "      <td>18</td>\n",
       "    </tr>\n",
       "    <tr>\n",
       "      <th>高跟</th>\n",
       "      <td>380671</td>\n",
       "      <td>尖頭設計，絕對是「氣場」的代名詞，不僅實力展現高冷女神氣質，還可讓你的腿看起來更細，身材比例...</td>\n",
       "      <td>5980</td>\n",
       "      <td>37</td>\n",
       "      <td>7</td>\n",
       "      <td>3</td>\n",
       "      <td>2020-03-25</td>\n",
       "      <td>36</td>\n",
       "    </tr>\n",
       "    <tr>\n",
       "      <th>...</th>\n",
       "      <td>...</td>\n",
       "      <td>...</td>\n",
       "      <td>...</td>\n",
       "      <td>...</td>\n",
       "      <td>...</td>\n",
       "      <td>...</td>\n",
       "      <td>...</td>\n",
       "      <td>...</td>\n",
       "    </tr>\n",
       "    <tr>\n",
       "      <th>童鞋</th>\n",
       "      <td>Little Elsa</td>\n",
       "      <td>光潔如絲的高級鍛料包覆鞋身，佐以五朵精緻花蕊。蕊心點綴著艾莎公主施以魔法晶瑩剔透的耀眼冰晶，...</td>\n",
       "      <td>2680</td>\n",
       "      <td>4</td>\n",
       "      <td>9</td>\n",
       "      <td>6</td>\n",
       "      <td>2020-02-11</td>\n",
       "      <td>23</td>\n",
       "    </tr>\n",
       "    <tr>\n",
       "      <th>童鞋</th>\n",
       "      <td>Little Elsa</td>\n",
       "      <td>光潔如絲的高級鍛料包覆鞋身，佐以五朵精緻花蕊。蕊心點綴著艾莎公主施以魔法晶瑩剔透的耀眼冰晶，...</td>\n",
       "      <td>2680</td>\n",
       "      <td>5</td>\n",
       "      <td>12</td>\n",
       "      <td>2</td>\n",
       "      <td>2020-07-02</td>\n",
       "      <td>14</td>\n",
       "    </tr>\n",
       "    <tr>\n",
       "      <th>童鞋</th>\n",
       "      <td>Little Elsa</td>\n",
       "      <td>光潔如絲的高級鍛料包覆鞋身，佐以五朵精緻花蕊。蕊心點綴著艾莎公主施以魔法晶瑩剔透的耀眼冰晶，...</td>\n",
       "      <td>2680</td>\n",
       "      <td>6</td>\n",
       "      <td>7</td>\n",
       "      <td>5</td>\n",
       "      <td>2020-09-19</td>\n",
       "      <td>20</td>\n",
       "    </tr>\n",
       "    <tr>\n",
       "      <th>童鞋</th>\n",
       "      <td>Little Elsa</td>\n",
       "      <td>光潔如絲的高級鍛料包覆鞋身，佐以五朵精緻花蕊。蕊心點綴著艾莎公主施以魔法晶瑩剔透的耀眼冰晶，...</td>\n",
       "      <td>2680</td>\n",
       "      <td>7</td>\n",
       "      <td>12</td>\n",
       "      <td>1</td>\n",
       "      <td>2020-02-16</td>\n",
       "      <td>21</td>\n",
       "    </tr>\n",
       "    <tr>\n",
       "      <th>童鞋</th>\n",
       "      <td>Little Elsa</td>\n",
       "      <td>光潔如絲的高級鍛料包覆鞋身，佐以五朵精緻花蕊。蕊心點綴著艾莎公主施以魔法晶瑩剔透的耀眼冰晶，...</td>\n",
       "      <td>2680</td>\n",
       "      <td>9</td>\n",
       "      <td>9</td>\n",
       "      <td>3</td>\n",
       "      <td>2020-04-09</td>\n",
       "      <td>14</td>\n",
       "    </tr>\n",
       "  </tbody>\n",
       "</table>\n",
       "<p>945 rows × 8 columns</p>\n",
       "</div>"
      ],
      "text/plain": [
       "                 name                                           describe  \\\n",
       "category                                                                   \n",
       "高跟               Alma  尖頭設計，絕對是「氣場」的代名詞，不僅實力展現高冷女神氣質，還可讓你的腿看起來更細，身材比例...   \n",
       "高跟              Allie  尖頭設計，絕對是「氣場」的代名詞，不僅實力展現高冷女神氣質，還可讓你的腿看起來更細，身材比例...   \n",
       "高跟              Allie  尖頭設計，絕對是「氣場」的代名詞，不僅實力展現高冷女神氣質，還可讓你的腿看起來更細，身材比例...   \n",
       "高跟             380799  尖頭設計，絕對是「氣場」的代名詞，不僅實力展現高冷女神氣質，還可讓你的腿看起來更細，身材比例...   \n",
       "高跟             380671  尖頭設計，絕對是「氣場」的代名詞，不僅實力展現高冷女神氣質，還可讓你的腿看起來更細，身材比例...   \n",
       "...               ...                                                ...   \n",
       "童鞋        Little Elsa  光潔如絲的高級鍛料包覆鞋身，佐以五朵精緻花蕊。蕊心點綴著艾莎公主施以魔法晶瑩剔透的耀眼冰晶，...   \n",
       "童鞋        Little Elsa  光潔如絲的高級鍛料包覆鞋身，佐以五朵精緻花蕊。蕊心點綴著艾莎公主施以魔法晶瑩剔透的耀眼冰晶，...   \n",
       "童鞋        Little Elsa  光潔如絲的高級鍛料包覆鞋身，佐以五朵精緻花蕊。蕊心點綴著艾莎公主施以魔法晶瑩剔透的耀眼冰晶，...   \n",
       "童鞋        Little Elsa  光潔如絲的高級鍛料包覆鞋身，佐以五朵精緻花蕊。蕊心點綴著艾莎公主施以魔法晶瑩剔透的耀眼冰晶，...   \n",
       "童鞋        Little Elsa  光潔如絲的高級鍛料包覆鞋身，佐以五朵精緻花蕊。蕊心點綴著艾莎公主施以魔法晶瑩剔透的耀眼冰晶，...   \n",
       "\n",
       "          price size  stock  count        date  quantity  \n",
       "category                                                  \n",
       "高跟         6280   37     14      3  2020-01-02        24  \n",
       "高跟         5280   37      6      3  2021-02-27        36  \n",
       "高跟         5280   38      8      3  2020-09-22         5  \n",
       "高跟         5280   37     11      3  2020-10-17        18  \n",
       "高跟         5980   37      7      3  2020-03-25        36  \n",
       "...         ...  ...    ...    ...         ...       ...  \n",
       "童鞋         2680    4      9      6  2020-02-11        23  \n",
       "童鞋         2680    5     12      2  2020-07-02        14  \n",
       "童鞋         2680    6      7      5  2020-09-19        20  \n",
       "童鞋         2680    7     12      1  2020-02-16        21  \n",
       "童鞋         2680    9      9      3  2020-04-09        14  \n",
       "\n",
       "[945 rows x 8 columns]"
      ]
     },
     "execution_count": 3,
     "metadata": {},
     "output_type": "execute_result"
    }
   ],
   "source": [
    "data.set_index('category')"
   ]
  },
  {
   "cell_type": "code",
   "execution_count": 5,
   "id": "db8d0007",
   "metadata": {},
   "outputs": [],
   "source": [
    "Cat=data.groupby(\"category\")"
   ]
  },
  {
   "cell_type": "code",
   "execution_count": null,
   "id": "4cf94402",
   "metadata": {
    "scrolled": false
   },
   "outputs": [],
   "source": [
    "Cat.describe()"
   ]
  },
  {
   "cell_type": "code",
   "execution_count": 6,
   "id": "ee03fdfb",
   "metadata": {},
   "outputs": [],
   "source": [
    "value = Cat.size()\n",
    "labels = [\"Low heel\",\"Flats\",\"Sandals\",\"Oxfords\",\"Child's shoes\",\"Boots\",\"High heel\"]\n"
   ]
  },
  {
   "cell_type": "code",
   "execution_count": 7,
   "id": "379416c5",
   "metadata": {},
   "outputs": [
    {
     "data": {
      "image/png": "[encoded data removed]",
      "text/plain": [
       "<Figure size 432x288 with 1 Axes>"
      ]
     },
     "metadata": {},
     "output_type": "display_data"
    }
   ],
   "source": [
    "#各鞋款分配比例\n",
    "plt.pie(value ,labels=labels,radius = 1.5 ,textprops = {\"fontsize\" : 14} ,autopct = \"%0.1f%%\"  , shadow =True,startangle = 100)\n",
    "plt.savefig(\"pie.png\",bbox_inches = \"tight\" ,pad_inches = 1 ,transparent = True)\n",
    "plt.show()"
   ]
  },
  {
   "cell_type": "code",
   "execution_count": 8,
   "id": "5f4f728f",
   "metadata": {},
   "outputs": [],
   "source": [
    "category = [\"Low heel\",\"Flats\",\"Sandals\",\"Oxfords\",\"Child's shoes\",\"Boots\",\"High heel\"]\n",
    "price = Cat.price.mean()"
   ]
  },
  {
   "cell_type": "code",
   "execution_count": 9,
   "id": "c579bc42",
   "metadata": {},
   "outputs": [],
   "source": [
    "xpos = np.arange(len(category))"
   ]
  },
  {
   "cell_type": "code",
   "execution_count": null,
   "id": "7241f97c",
   "metadata": {},
   "outputs": [],
   "source": [
    "xpos"
   ]
  },
  {
   "cell_type": "code",
   "execution_count": 10,
   "id": "0171b75c",
   "metadata": {},
   "outputs": [
    {
     "data": {
      "text/plain": [
       "<matplotlib.legend.Legend at 0x222a2abea60>"
      ]
     },
     "execution_count": 10,
     "metadata": {},
     "output_type": "execute_result"
    },
    {
     "data": {
      "image/png": "[encoded data removed]",
      "text/plain": [
       "<Figure size 432x288 with 1 Axes>"
      ]
     },
     "metadata": {
      "needs_background": "light"
     },
     "output_type": "display_data"
    }
   ],
   "source": [
    "#各鞋款平均售價\n",
    "plt.xticks(xpos , category)\n",
    "plt.xlabel(\"category(bin)\")\n",
    "plt.title(\"Average price of shoes \")\n",
    "\n",
    "plt.bar(xpos ,price ,width= 0.6 ,label = \"Prcie\",color =[\"orange\"])\n",
    "plt.legend()\n"
   ]
  },
  {
   "cell_type": "code",
   "execution_count": 11,
   "id": "64fb52c2",
   "metadata": {},
   "outputs": [],
   "source": [
    "all_cat=pd.Series(data['category']).astype('category')"
   ]
  },
  {
   "cell_type": "code",
   "execution_count": 12,
   "id": "9a62f487",
   "metadata": {},
   "outputs": [],
   "source": [
    "heel=Cat.get_group('高跟')[120:150]"
   ]
  },
  {
   "cell_type": "code",
   "execution_count": 13,
   "id": "f5a445c4",
   "metadata": {},
   "outputs": [],
   "source": [
    "heel=heel.sort_values(by='size')"
   ]
  },
  {
   "cell_type": "code",
   "execution_count": 14,
   "id": "835bfb0e",
   "metadata": {
    "scrolled": true
   },
   "outputs": [
    {
     "data": {
      "text/plain": [
       "<function matplotlib.pyplot.show(close=None, block=None)>"
      ]
     },
     "execution_count": 14,
     "metadata": {},
     "output_type": "execute_result"
    },
    {
     "data": {
      "image/png": "[encoded data removed]",
      "text/plain": [
       "<Figure size 432x288 with 1 Axes>"
      ]
     },
     "metadata": {
      "needs_background": "light"
     },
     "output_type": "display_data"
    }
   ],
   "source": [
    "#高跟尺寸與庫存\n",
    "heel.plot(x='size',y='stock')\n",
    "plt.title(\"High heel of the Chart\")\n",
    "plt.xlabel(\"size\" , fontweight='bold')\n",
    "plt.ylabel(\"stock\", fontweight='bold')\n",
    "plt.legend()\n",
    "plt.show"
   ]
  },
  {
   "cell_type": "code",
   "execution_count": null,
   "id": "1d9281fb",
   "metadata": {},
   "outputs": [],
   "source": [
    "df=pd.DataFrame(data)\n",
    "df.to_excel('Momentanee.xlsx')"
   ]
  }
 ],
 "metadata": {
  "kernelspec": {
   "display_name": "Python 3",
   "language": "python",
   "name": "python3"
  },
  "language_info": {
   "codemirror_mode": {
    "name": "ipython",
    "version": 3
   },
   "file_extension": ".py",
   "mimetype": "text/x-python",
   "name": "python",
   "nbconvert_exporter": "python",
   "pygments_lexer": "ipython3",
   "version": "3.9.5"
  }
 },
 "nbformat": 4,
 "nbformat_minor": 5
}
